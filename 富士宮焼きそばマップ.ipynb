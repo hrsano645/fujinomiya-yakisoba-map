{
 "cells": [
  {
   "cell_type": "code",
   "execution_count": 1,
   "source": [
    "import json\r\n",
    "import os\r\n",
    "import random\r\n",
    "import time\r\n",
    "import urllib.parse\r\n",
    "\r\n",
    "import numpy as np\r\n",
    "import pandas\r\n",
    "import plotly.express as px\r\n",
    "import requests\r\n",
    "from dotenv import load_dotenv"
   ],
   "outputs": [],
   "metadata": {
    "slideshow": {
     "slide_type": "slide"
    }
   }
  },
  {
   "cell_type": "code",
   "execution_count": 2,
   "source": [
    "# トークン読み込み\r\n",
    "# .envにMAPBOX_TOKENを入れてください。\r\n",
    "\r\n",
    "load_dotenv()\r\n",
    "\r\n",
    "mapbox_token = os.environ[\"MAPBOX_TOKEN\"]"
   ],
   "outputs": [],
   "metadata": {}
  },
  {
   "cell_type": "code",
   "execution_count": 3,
   "source": [
    "# 焼きそばのリストをとってくる\r\n",
    "# http://www.umya-yakisoba.com/contents/taberu/\r\n",
    "\r\n",
    "yakisoba_dfs = pandas.read_html(\"http://www.umya-yakisoba.com/contents/taberu/\")\r\n",
    "print(len(yakisoba_dfs))"
   ],
   "outputs": [
    {
     "output_type": "stream",
     "name": "stdout",
     "text": [
      "5\n"
     ]
    }
   ],
   "metadata": {
    "scrolled": false,
    "slideshow": {
     "slide_type": "slide"
    }
   }
  },
  {
   "cell_type": "code",
   "execution_count": 37,
   "source": [
    "# 全体を統合して前処理\r\n",
    "\r\n",
    "yakisoba_all = pandas.concat(yakisoba_dfs[2:]).rename(columns={\r\n",
    "    \"店　名\":\"店名\",\r\n",
    "    \"住　所\":\"住所\",\r\n",
    "    \"焼き方\":\"焼き方:店\",\r\n",
    "    \"焼き方.1\":\"焼き方:客\"\r\n",
    "})\r\n",
    "# 必要ない列を除去\r\n",
    "yakisoba_all = yakisoba_all.drop(columns=[\"番号\", \"地図\"])\r\n",
    "# 住所がNaNなものを除去\r\n",
    "yakisoba_all = yakisoba_all.dropna(subset = [\"住所\"])\r\n",
    "# 店名で重複除去\r\n",
    "yakisoba_all = yakisoba_all.drop_duplicates(subset=[\"店名\"])\r\n",
    "\r\n",
    "# 列名変更\r\n",
    "yakisoba_all = yakisoba_all.reset_index(drop=True)\r\n"
   ],
   "outputs": [],
   "metadata": {}
  },
  {
   "cell_type": "code",
   "execution_count": 38,
   "source": [
    "yakisoba_all"
   ],
   "outputs": [
    {
     "output_type": "execute_result",
     "data": {
      "text/plain": [
       "            店名        住所 電話番号（0544）                      営業時間（休憩時間含）  \\\n",
       "0    すぎ本（お宮横丁）    宮町4-23    24-8272                      10:30-16:00   \n",
       "1       お食事処岩市   大宮町8-18    27-7153                      11:00-20:00   \n",
       "2          ままん   大宮町5-17    29-6288           11:00-14:0018:00-22:00   \n",
       "3       みっちゃん家   宝町11-24    27-5305             11:00-15:00(LO14:30)   \n",
       "4         わびすけ    野中町806    23-8578  11:30-14:0014:30-22:00(LO21:00)   \n",
       "..         ...       ...        ...                              ...   \n",
       "147         大勝   淀師136-8    27-3968                      10:00－20:00   \n",
       "148     うるおいてい   淀師415-2    24-7155                      11:30－14:00   \n",
       "149   お好み食堂 伊東   淀師468-2    27-6494                      10:30－20:00   \n",
       "150        しまい  淀師583-20    22-2767                      12:00－22:00   \n",
       "151       ひまわり    若の宮町32    26-3279                      11:00－22:00   \n",
       "\n",
       "            休 日     受入人数 駐車場 焼き方:店 焼き方:客       料 金  \n",
       "0           火曜日     お宮横丁   無     ○   NaN  300～600円  \n",
       "1           水曜日  28＋座敷7間   2     ○   NaN  600-780円  \n",
       "2         水・木曜日       26   無     ○   NaN      600円  \n",
       "3    水曜日第１・３日曜日   8＋座敷2間   5     ○   NaN  350-600円  \n",
       "4           水曜日       54  25     ○   NaN  620-980円  \n",
       "..          ...      ...  ..   ...   ...       ...  \n",
       "147         月曜日       25   7     ○   NaN  450～700円  \n",
       "148         月曜日       50  15     ○     ○  350～800円  \n",
       "149         月曜、       50  20     ○   NaN  350～600円  \n",
       "150         日曜日       15   8     ○   NaN  350～550円  \n",
       "151         火曜日       10   3     ○   NaN  400～650円  \n",
       "\n",
       "[152 rows x 10 columns]"
      ],
      "text/html": [
       "<div>\n",
       "<style scoped>\n",
       "    .dataframe tbody tr th:only-of-type {\n",
       "        vertical-align: middle;\n",
       "    }\n",
       "\n",
       "    .dataframe tbody tr th {\n",
       "        vertical-align: top;\n",
       "    }\n",
       "\n",
       "    .dataframe thead th {\n",
       "        text-align: right;\n",
       "    }\n",
       "</style>\n",
       "<table border=\"1\" class=\"dataframe\">\n",
       "  <thead>\n",
       "    <tr style=\"text-align: right;\">\n",
       "      <th></th>\n",
       "      <th>店名</th>\n",
       "      <th>住所</th>\n",
       "      <th>電話番号（0544）</th>\n",
       "      <th>営業時間（休憩時間含）</th>\n",
       "      <th>休 日</th>\n",
       "      <th>受入人数</th>\n",
       "      <th>駐車場</th>\n",
       "      <th>焼き方:店</th>\n",
       "      <th>焼き方:客</th>\n",
       "      <th>料 金</th>\n",
       "    </tr>\n",
       "  </thead>\n",
       "  <tbody>\n",
       "    <tr>\n",
       "      <th>0</th>\n",
       "      <td>すぎ本（お宮横丁）</td>\n",
       "      <td>宮町4-23</td>\n",
       "      <td>24-8272</td>\n",
       "      <td>10:30-16:00</td>\n",
       "      <td>火曜日</td>\n",
       "      <td>お宮横丁</td>\n",
       "      <td>無</td>\n",
       "      <td>○</td>\n",
       "      <td>NaN</td>\n",
       "      <td>300～600円</td>\n",
       "    </tr>\n",
       "    <tr>\n",
       "      <th>1</th>\n",
       "      <td>お食事処岩市</td>\n",
       "      <td>大宮町8-18</td>\n",
       "      <td>27-7153</td>\n",
       "      <td>11:00-20:00</td>\n",
       "      <td>水曜日</td>\n",
       "      <td>28＋座敷7間</td>\n",
       "      <td>2</td>\n",
       "      <td>○</td>\n",
       "      <td>NaN</td>\n",
       "      <td>600-780円</td>\n",
       "    </tr>\n",
       "    <tr>\n",
       "      <th>2</th>\n",
       "      <td>ままん</td>\n",
       "      <td>大宮町5-17</td>\n",
       "      <td>29-6288</td>\n",
       "      <td>11:00-14:0018:00-22:00</td>\n",
       "      <td>水・木曜日</td>\n",
       "      <td>26</td>\n",
       "      <td>無</td>\n",
       "      <td>○</td>\n",
       "      <td>NaN</td>\n",
       "      <td>600円</td>\n",
       "    </tr>\n",
       "    <tr>\n",
       "      <th>3</th>\n",
       "      <td>みっちゃん家</td>\n",
       "      <td>宝町11-24</td>\n",
       "      <td>27-5305</td>\n",
       "      <td>11:00-15:00(LO14:30)</td>\n",
       "      <td>水曜日第１・３日曜日</td>\n",
       "      <td>8＋座敷2間</td>\n",
       "      <td>5</td>\n",
       "      <td>○</td>\n",
       "      <td>NaN</td>\n",
       "      <td>350-600円</td>\n",
       "    </tr>\n",
       "    <tr>\n",
       "      <th>4</th>\n",
       "      <td>わびすけ</td>\n",
       "      <td>野中町806</td>\n",
       "      <td>23-8578</td>\n",
       "      <td>11:30-14:0014:30-22:00(LO21:00)</td>\n",
       "      <td>水曜日</td>\n",
       "      <td>54</td>\n",
       "      <td>25</td>\n",
       "      <td>○</td>\n",
       "      <td>NaN</td>\n",
       "      <td>620-980円</td>\n",
       "    </tr>\n",
       "    <tr>\n",
       "      <th>...</th>\n",
       "      <td>...</td>\n",
       "      <td>...</td>\n",
       "      <td>...</td>\n",
       "      <td>...</td>\n",
       "      <td>...</td>\n",
       "      <td>...</td>\n",
       "      <td>...</td>\n",
       "      <td>...</td>\n",
       "      <td>...</td>\n",
       "      <td>...</td>\n",
       "    </tr>\n",
       "    <tr>\n",
       "      <th>147</th>\n",
       "      <td>大勝</td>\n",
       "      <td>淀師136-8</td>\n",
       "      <td>27-3968</td>\n",
       "      <td>10:00－20:00</td>\n",
       "      <td>月曜日</td>\n",
       "      <td>25</td>\n",
       "      <td>7</td>\n",
       "      <td>○</td>\n",
       "      <td>NaN</td>\n",
       "      <td>450～700円</td>\n",
       "    </tr>\n",
       "    <tr>\n",
       "      <th>148</th>\n",
       "      <td>うるおいてい</td>\n",
       "      <td>淀師415-2</td>\n",
       "      <td>24-7155</td>\n",
       "      <td>11:30－14:00</td>\n",
       "      <td>月曜日</td>\n",
       "      <td>50</td>\n",
       "      <td>15</td>\n",
       "      <td>○</td>\n",
       "      <td>○</td>\n",
       "      <td>350～800円</td>\n",
       "    </tr>\n",
       "    <tr>\n",
       "      <th>149</th>\n",
       "      <td>お好み食堂 伊東</td>\n",
       "      <td>淀師468-2</td>\n",
       "      <td>27-6494</td>\n",
       "      <td>10:30－20:00</td>\n",
       "      <td>月曜、</td>\n",
       "      <td>50</td>\n",
       "      <td>20</td>\n",
       "      <td>○</td>\n",
       "      <td>NaN</td>\n",
       "      <td>350～600円</td>\n",
       "    </tr>\n",
       "    <tr>\n",
       "      <th>150</th>\n",
       "      <td>しまい</td>\n",
       "      <td>淀師583-20</td>\n",
       "      <td>22-2767</td>\n",
       "      <td>12:00－22:00</td>\n",
       "      <td>日曜日</td>\n",
       "      <td>15</td>\n",
       "      <td>8</td>\n",
       "      <td>○</td>\n",
       "      <td>NaN</td>\n",
       "      <td>350～550円</td>\n",
       "    </tr>\n",
       "    <tr>\n",
       "      <th>151</th>\n",
       "      <td>ひまわり</td>\n",
       "      <td>若の宮町32</td>\n",
       "      <td>26-3279</td>\n",
       "      <td>11:00－22:00</td>\n",
       "      <td>火曜日</td>\n",
       "      <td>10</td>\n",
       "      <td>3</td>\n",
       "      <td>○</td>\n",
       "      <td>NaN</td>\n",
       "      <td>400～650円</td>\n",
       "    </tr>\n",
       "  </tbody>\n",
       "</table>\n",
       "<p>152 rows × 10 columns</p>\n",
       "</div>"
      ]
     },
     "metadata": {},
     "execution_count": 38
    }
   ],
   "metadata": {
    "scrolled": true,
    "slideshow": {
     "slide_type": "slide"
    }
   }
  },
  {
   "cell_type": "code",
   "execution_count": 44,
   "source": [
    "yakisoba_all.to_csv(\"yakisoba_all_tmp.csv\",encoding=\"shift-jis\")"
   ],
   "outputs": [
    {
     "output_type": "error",
     "ename": "UnicodeEncodeError",
     "evalue": "'shift_jis' codec can't encode character '\\uff5e' in position 56: illegal multibyte sequence",
     "traceback": [
      "\u001b[1;31m---------------------------------------------------------------------------\u001b[0m",
      "\u001b[1;31mUnicodeEncodeError\u001b[0m                        Traceback (most recent call last)",
      "\u001b[1;32m~\\AppData\\Local\\Temp/ipykernel_24712/547685803.py\u001b[0m in \u001b[0;36m<module>\u001b[1;34m\u001b[0m\n\u001b[1;32m----> 1\u001b[1;33m \u001b[0myakisoba_all\u001b[0m\u001b[1;33m.\u001b[0m\u001b[0mto_csv\u001b[0m\u001b[1;33m(\u001b[0m\u001b[1;34m\"yakisoba_all.csv\"\u001b[0m\u001b[1;33m,\u001b[0m\u001b[0mencoding\u001b[0m\u001b[1;33m=\u001b[0m\u001b[1;34m\"shift-jis\"\u001b[0m\u001b[1;33m)\u001b[0m\u001b[1;33m\u001b[0m\u001b[1;33m\u001b[0m\u001b[0m\n\u001b[0m",
      "\u001b[1;32mc:\\Users\\hiroshi\\Documents\\workspace\\personal\\fujinomiya-yakisoba-map-1\\.venv\\lib\\site-packages\\pandas\\core\\generic.py\u001b[0m in \u001b[0;36mto_csv\u001b[1;34m(self, path_or_buf, sep, na_rep, float_format, columns, header, index, index_label, mode, encoding, compression, quoting, quotechar, line_terminator, chunksize, date_format, doublequote, escapechar, decimal, errors, storage_options)\u001b[0m\n\u001b[0;32m   3461\u001b[0m         )\n\u001b[0;32m   3462\u001b[0m \u001b[1;33m\u001b[0m\u001b[0m\n\u001b[1;32m-> 3463\u001b[1;33m         return DataFrameRenderer(formatter).to_csv(\n\u001b[0m\u001b[0;32m   3464\u001b[0m             \u001b[0mpath_or_buf\u001b[0m\u001b[1;33m,\u001b[0m\u001b[1;33m\u001b[0m\u001b[1;33m\u001b[0m\u001b[0m\n\u001b[0;32m   3465\u001b[0m             \u001b[0mline_terminator\u001b[0m\u001b[1;33m=\u001b[0m\u001b[0mline_terminator\u001b[0m\u001b[1;33m,\u001b[0m\u001b[1;33m\u001b[0m\u001b[1;33m\u001b[0m\u001b[0m\n",
      "\u001b[1;32mc:\\Users\\hiroshi\\Documents\\workspace\\personal\\fujinomiya-yakisoba-map-1\\.venv\\lib\\site-packages\\pandas\\io\\formats\\format.py\u001b[0m in \u001b[0;36mto_csv\u001b[1;34m(self, path_or_buf, encoding, sep, columns, index_label, mode, compression, quoting, quotechar, line_terminator, chunksize, date_format, doublequote, escapechar, errors, storage_options)\u001b[0m\n\u001b[0;32m   1103\u001b[0m             \u001b[0mformatter\u001b[0m\u001b[1;33m=\u001b[0m\u001b[0mself\u001b[0m\u001b[1;33m.\u001b[0m\u001b[0mfmt\u001b[0m\u001b[1;33m,\u001b[0m\u001b[1;33m\u001b[0m\u001b[1;33m\u001b[0m\u001b[0m\n\u001b[0;32m   1104\u001b[0m         )\n\u001b[1;32m-> 1105\u001b[1;33m         \u001b[0mcsv_formatter\u001b[0m\u001b[1;33m.\u001b[0m\u001b[0msave\u001b[0m\u001b[1;33m(\u001b[0m\u001b[1;33m)\u001b[0m\u001b[1;33m\u001b[0m\u001b[1;33m\u001b[0m\u001b[0m\n\u001b[0m\u001b[0;32m   1106\u001b[0m \u001b[1;33m\u001b[0m\u001b[0m\n\u001b[0;32m   1107\u001b[0m         \u001b[1;32mif\u001b[0m \u001b[0mcreated_buffer\u001b[0m\u001b[1;33m:\u001b[0m\u001b[1;33m\u001b[0m\u001b[1;33m\u001b[0m\u001b[0m\n",
      "\u001b[1;32mc:\\Users\\hiroshi\\Documents\\workspace\\personal\\fujinomiya-yakisoba-map-1\\.venv\\lib\\site-packages\\pandas\\io\\formats\\csvs.py\u001b[0m in \u001b[0;36msave\u001b[1;34m(self)\u001b[0m\n\u001b[0;32m    255\u001b[0m             )\n\u001b[0;32m    256\u001b[0m \u001b[1;33m\u001b[0m\u001b[0m\n\u001b[1;32m--> 257\u001b[1;33m             \u001b[0mself\u001b[0m\u001b[1;33m.\u001b[0m\u001b[0m_save\u001b[0m\u001b[1;33m(\u001b[0m\u001b[1;33m)\u001b[0m\u001b[1;33m\u001b[0m\u001b[1;33m\u001b[0m\u001b[0m\n\u001b[0m\u001b[0;32m    258\u001b[0m \u001b[1;33m\u001b[0m\u001b[0m\n\u001b[0;32m    259\u001b[0m     \u001b[1;32mdef\u001b[0m \u001b[0m_save\u001b[0m\u001b[1;33m(\u001b[0m\u001b[0mself\u001b[0m\u001b[1;33m)\u001b[0m \u001b[1;33m->\u001b[0m \u001b[1;32mNone\u001b[0m\u001b[1;33m:\u001b[0m\u001b[1;33m\u001b[0m\u001b[1;33m\u001b[0m\u001b[0m\n",
      "\u001b[1;32mc:\\Users\\hiroshi\\Documents\\workspace\\personal\\fujinomiya-yakisoba-map-1\\.venv\\lib\\site-packages\\pandas\\io\\formats\\csvs.py\u001b[0m in \u001b[0;36m_save\u001b[1;34m(self)\u001b[0m\n\u001b[0;32m    260\u001b[0m         \u001b[1;32mif\u001b[0m \u001b[0mself\u001b[0m\u001b[1;33m.\u001b[0m\u001b[0m_need_to_save_header\u001b[0m\u001b[1;33m:\u001b[0m\u001b[1;33m\u001b[0m\u001b[1;33m\u001b[0m\u001b[0m\n\u001b[0;32m    261\u001b[0m             \u001b[0mself\u001b[0m\u001b[1;33m.\u001b[0m\u001b[0m_save_header\u001b[0m\u001b[1;33m(\u001b[0m\u001b[1;33m)\u001b[0m\u001b[1;33m\u001b[0m\u001b[1;33m\u001b[0m\u001b[0m\n\u001b[1;32m--> 262\u001b[1;33m         \u001b[0mself\u001b[0m\u001b[1;33m.\u001b[0m\u001b[0m_save_body\u001b[0m\u001b[1;33m(\u001b[0m\u001b[1;33m)\u001b[0m\u001b[1;33m\u001b[0m\u001b[1;33m\u001b[0m\u001b[0m\n\u001b[0m\u001b[0;32m    263\u001b[0m \u001b[1;33m\u001b[0m\u001b[0m\n\u001b[0;32m    264\u001b[0m     \u001b[1;32mdef\u001b[0m \u001b[0m_save_header\u001b[0m\u001b[1;33m(\u001b[0m\u001b[0mself\u001b[0m\u001b[1;33m)\u001b[0m \u001b[1;33m->\u001b[0m \u001b[1;32mNone\u001b[0m\u001b[1;33m:\u001b[0m\u001b[1;33m\u001b[0m\u001b[1;33m\u001b[0m\u001b[0m\n",
      "\u001b[1;32mc:\\Users\\hiroshi\\Documents\\workspace\\personal\\fujinomiya-yakisoba-map-1\\.venv\\lib\\site-packages\\pandas\\io\\formats\\csvs.py\u001b[0m in \u001b[0;36m_save_body\u001b[1;34m(self)\u001b[0m\n\u001b[0;32m    298\u001b[0m             \u001b[1;32mif\u001b[0m \u001b[0mstart_i\u001b[0m \u001b[1;33m>=\u001b[0m \u001b[0mend_i\u001b[0m\u001b[1;33m:\u001b[0m\u001b[1;33m\u001b[0m\u001b[1;33m\u001b[0m\u001b[0m\n\u001b[0;32m    299\u001b[0m                 \u001b[1;32mbreak\u001b[0m\u001b[1;33m\u001b[0m\u001b[1;33m\u001b[0m\u001b[0m\n\u001b[1;32m--> 300\u001b[1;33m             \u001b[0mself\u001b[0m\u001b[1;33m.\u001b[0m\u001b[0m_save_chunk\u001b[0m\u001b[1;33m(\u001b[0m\u001b[0mstart_i\u001b[0m\u001b[1;33m,\u001b[0m \u001b[0mend_i\u001b[0m\u001b[1;33m)\u001b[0m\u001b[1;33m\u001b[0m\u001b[1;33m\u001b[0m\u001b[0m\n\u001b[0m\u001b[0;32m    301\u001b[0m \u001b[1;33m\u001b[0m\u001b[0m\n\u001b[0;32m    302\u001b[0m     \u001b[1;32mdef\u001b[0m \u001b[0m_save_chunk\u001b[0m\u001b[1;33m(\u001b[0m\u001b[0mself\u001b[0m\u001b[1;33m,\u001b[0m \u001b[0mstart_i\u001b[0m\u001b[1;33m:\u001b[0m \u001b[0mint\u001b[0m\u001b[1;33m,\u001b[0m \u001b[0mend_i\u001b[0m\u001b[1;33m:\u001b[0m \u001b[0mint\u001b[0m\u001b[1;33m)\u001b[0m \u001b[1;33m->\u001b[0m \u001b[1;32mNone\u001b[0m\u001b[1;33m:\u001b[0m\u001b[1;33m\u001b[0m\u001b[1;33m\u001b[0m\u001b[0m\n",
      "\u001b[1;32mc:\\Users\\hiroshi\\Documents\\workspace\\personal\\fujinomiya-yakisoba-map-1\\.venv\\lib\\site-packages\\pandas\\io\\formats\\csvs.py\u001b[0m in \u001b[0;36m_save_chunk\u001b[1;34m(self, start_i, end_i)\u001b[0m\n\u001b[0;32m    309\u001b[0m \u001b[1;33m\u001b[0m\u001b[0m\n\u001b[0;32m    310\u001b[0m         \u001b[0mix\u001b[0m \u001b[1;33m=\u001b[0m \u001b[0mself\u001b[0m\u001b[1;33m.\u001b[0m\u001b[0mdata_index\u001b[0m\u001b[1;33m[\u001b[0m\u001b[0mslicer\u001b[0m\u001b[1;33m]\u001b[0m\u001b[1;33m.\u001b[0m\u001b[0m_format_native_types\u001b[0m\u001b[1;33m(\u001b[0m\u001b[1;33m**\u001b[0m\u001b[0mself\u001b[0m\u001b[1;33m.\u001b[0m\u001b[0m_number_format\u001b[0m\u001b[1;33m)\u001b[0m\u001b[1;33m\u001b[0m\u001b[1;33m\u001b[0m\u001b[0m\n\u001b[1;32m--> 311\u001b[1;33m         libwriters.write_csv_rows(\n\u001b[0m\u001b[0;32m    312\u001b[0m             \u001b[0mdata\u001b[0m\u001b[1;33m,\u001b[0m\u001b[1;33m\u001b[0m\u001b[1;33m\u001b[0m\u001b[0m\n\u001b[0;32m    313\u001b[0m             \u001b[0mix\u001b[0m\u001b[1;33m,\u001b[0m\u001b[1;33m\u001b[0m\u001b[1;33m\u001b[0m\u001b[0m\n",
      "\u001b[1;32mc:\\Users\\hiroshi\\Documents\\workspace\\personal\\fujinomiya-yakisoba-map-1\\.venv\\lib\\site-packages\\pandas\\_libs\\writers.pyx\u001b[0m in \u001b[0;36mpandas._libs.writers.write_csv_rows\u001b[1;34m()\u001b[0m\n",
      "\u001b[1;31mUnicodeEncodeError\u001b[0m: 'shift_jis' codec can't encode character '\\uff5e' in position 56: illegal multibyte sequence"
     ]
    }
   ],
   "metadata": {}
  },
  {
   "cell_type": "code",
   "execution_count": 41,
   "source": [
    "def get_lon_lat(zyuusyo):\r\n",
    "    \"\"\"\r\n",
    "    国土地理院のAPIを使って、\r\n",
    "    負荷防止のために、ランダムで問い合わせを行うようにしてます。\r\n",
    "    \r\n",
    "    returnは(lat, lon) として返す\r\n",
    "    lon:0\r\n",
    "    lat:1\r\n",
    "    ref: https://memo.appri.me/programming/gsi-geocoding-api#%E3%82%B8%E3%82%AA%E3%82%B3%E3%83%BC%E3%83%87%E3%82%A3%E3%83%B3%E3%82%B0API\r\n",
    "    \"\"\"\r\n",
    "    encoding_zyuusyo = urllib.parse.quote(zyuusyo)\r\n",
    "    req_api = requests.get(f\"https://msearch.gsi.go.jp/address-search/AddressSearch?q={encoding_zyuusyo}\")\r\n",
    "    print(req_api.text)\r\n",
    "    req_json = json.loads(req_api.text)\r\n",
    "    lon_lat = req_json[0][\"geometry\"][\"coordinates\"]\r\n",
    "    time.sleep(random.randint(2,5))\r\n",
    "    return (lon_lat[1], lon_lat[0])"
   ],
   "outputs": [],
   "metadata": {
    "slideshow": {
     "slide_type": "slide"
    }
   }
  },
  {
   "cell_type": "code",
   "execution_count": 42,
   "source": [
    "# このコードは実行すると時間がかかるので、LT当日は行わないように\r\n",
    "\r\n",
    "# pandasにlot,latを入れる\r\n",
    "\r\n",
    "# copy_yakisoba_all = yakisoba_all.copy()\r\n",
    "# yakisoba_all[\"lon_lat\"] = copy_yakisoba_all[\"住所\"].map(lambda x: get_lon_lat(f\"静岡県富士宮市{x}\"))\r\n",
    "# copy_yakisoba_all = yakisoba_all.copy()\r\n",
    "# yakisoba_all[\"lon\"] = copy_yakisoba_all[\"lon_lat\"].map(lambda x: x[1])\r\n",
    "# yakisoba_all[\"lat\"] = copy_yakisoba_all[\"lon_lat\"].map(lambda x: x[0])\r\n",
    "\r\n",
    "# INFO:2021-08-26 copyを使うのが微妙に見えてしまう…\r\n",
    "# 大体600秒ぐらいかかる"
   ],
   "outputs": [
    {
     "output_type": "stream",
     "name": "stdout",
     "text": [
      "[{\"geometry\":{\"coordinates\":[138.610199,35.224991],\"type\":\"Point\"},\"type\":\"Feature\",\"properties\":{\"addressCode\":\"\",\"title\":\"静岡県富士宮市宮町４番２３号\"}}]\n",
      "[{\"geometry\":{\"coordinates\":[138.611572,35.224586],\"type\":\"Point\"},\"type\":\"Feature\",\"properties\":{\"addressCode\":\"\",\"title\":\"静岡県富士宮市大宮町８番１８号\"}}]\n",
      "[{\"geometry\":{\"coordinates\":[138.611862,35.22504],\"type\":\"Point\"},\"type\":\"Feature\",\"properties\":{\"addressCode\":\"\",\"title\":\"静岡県富士宮市大宮町５番１７号\"}}]\n",
      "[{\"geometry\":{\"coordinates\":[138.604813,35.229198],\"type\":\"Point\"},\"type\":\"Feature\",\"properties\":{\"addressCode\":\"\",\"title\":\"静岡県富士宮市宝町１１番２４号\"}}]\n",
      "[{\"geometry\":{\"coordinates\":[138.606567,35.216354],\"type\":\"Point\"},\"type\":\"Feature\",\"properties\":{\"addressCode\":\"\",\"title\":\"静岡県富士宮市野中町８０６番地\"}}]\n",
      "[{\"geometry\":{\"coordinates\":[138.624725,35.231007],\"type\":\"Point\"},\"type\":\"Feature\",\"properties\":{\"addressCode\":\"\",\"title\":\"静岡県富士宮市東阿幸地２４５番地\"}}]\n",
      "[{\"geometry\":{\"coordinates\":[138.616074,35.236752],\"type\":\"Point\"},\"type\":\"Feature\",\"properties\":{\"addressCode\":\"\",\"title\":\"静岡県富士宮市ひばりが丘６番地\"}}]\n",
      "[{\"geometry\":{\"coordinates\":[138.623306,35.235474],\"type\":\"Point\"},\"type\":\"Feature\",\"properties\":{\"addressCode\":\"\",\"title\":\"静岡県富士宮市富士見ケ丘６２８番地\"}}]\n",
      "[{\"geometry\":{\"coordinates\":[138.610199,35.224991],\"type\":\"Point\"},\"type\":\"Feature\",\"properties\":{\"addressCode\":\"\",\"title\":\"静岡県富士宮市宮町４番２３号\"}}]\n",
      "[{\"geometry\":{\"coordinates\":[138.605484,35.325951],\"type\":\"Point\"},\"type\":\"Feature\",\"properties\":{\"addressCode\":\"\",\"title\":\"静岡県富士宮市上井出\"}}]\n",
      "[{\"geometry\":{\"coordinates\":[138.595825,35.306538],\"type\":\"Point\"},\"type\":\"Feature\",\"properties\":{\"addressCode\":\"\",\"title\":\"静岡県富士宮市上井出１４１番地\"}}]\n",
      "[{\"geometry\":{\"coordinates\":[138.577682,35.262058],\"type\":\"Point\"},\"type\":\"Feature\",\"properties\":{\"addressCode\":\"\",\"title\":\"静岡県富士宮市下条１６１１番地\"}}]\n",
      "[{\"geometry\":{\"coordinates\":[138.626831,35.215176],\"type\":\"Point\"},\"type\":\"Feature\",\"properties\":{\"addressCode\":\"\",\"title\":\"静岡県富士宮市源道寺町１２９５番地\"}}]\n",
      "[{\"geometry\":{\"coordinates\":[138.609512,35.243034],\"type\":\"Point\"},\"type\":\"Feature\",\"properties\":{\"addressCode\":\"\",\"title\":\"静岡県富士宮市淀師１１１７番地\"}}]\n",
      "[{\"geometry\":{\"coordinates\":[138.615936,35.219212],\"type\":\"Point\"},\"type\":\"Feature\",\"properties\":{\"addressCode\":\"\",\"title\":\"静岡県富士宮市錦町８番２５号\"}}]\n",
      "[{\"geometry\":{\"coordinates\":[138.624863,35.251904],\"type\":\"Point\"},\"type\":\"Feature\",\"properties\":{\"addressCode\":\"\",\"title\":\"静岡県富士宮市万野原新田\"}}]\n",
      "[{\"geometry\":{\"coordinates\":[138.634811,35.267826],\"type\":\"Point\"},\"type\":\"Feature\",\"properties\":{\"addressCode\":\"\",\"title\":\"静岡県富士宮市山宮５１７番地\"}}]\n",
      "[{\"geometry\":{\"coordinates\":[138.616745,35.223274],\"type\":\"Point\"},\"type\":\"Feature\",\"properties\":{\"addressCode\":\"\",\"title\":\"静岡県富士宮市東町１４番３号\"}}]\n",
      "[{\"geometry\":{\"coordinates\":[138.611862,35.218826],\"type\":\"Point\"},\"type\":\"Feature\",\"properties\":{\"addressCode\":\"\",\"title\":\"静岡県富士宮市浅間町８番５号\"}}]\n",
      "[{\"geometry\":{\"coordinates\":[138.590286,35.310333],\"type\":\"Point\"},\"type\":\"Feature\",\"properties\":{\"addressCode\":\"\",\"title\":\"静岡県富士宮市上井出２６１番地\"}}]\n",
      "[{\"geometry\":{\"coordinates\":[138.618988,35.223877],\"type\":\"Point\"},\"type\":\"Feature\",\"properties\":{\"addressCode\":\"\",\"title\":\"静岡県富士宮市東町１１番５号\"}}]\n",
      "[{\"geometry\":{\"coordinates\":[138.586578,35.215862],\"type\":\"Point\"},\"type\":\"Feature\",\"properties\":{\"addressCode\":\"\",\"title\":\"静岡県富士宮市安居山８３２番地\"}}]\n",
      "[{\"geometry\":{\"coordinates\":[138.646347,35.249496],\"type\":\"Point\"},\"type\":\"Feature\",\"properties\":{\"addressCode\":\"\",\"title\":\"静岡県富士宮市粟倉５６番地\"}}]\n",
      "[{\"geometry\":{\"coordinates\":[138.637741,35.25161],\"type\":\"Point\"},\"type\":\"Feature\",\"properties\":{\"addressCode\":\"\",\"title\":\"静岡県富士宮市粟倉南町９４番地\"}}]\n",
      "[{\"geometry\":{\"coordinates\":[138.57785,35.335857],\"type\":\"Point\"},\"type\":\"Feature\",\"properties\":{\"addressCode\":\"\",\"title\":\"静岡県富士宮市内野\"}}]\n",
      "[{\"geometry\":{\"coordinates\":[138.629059,35.243511],\"type\":\"Point\"},\"type\":\"Feature\",\"properties\":{\"addressCode\":\"\",\"title\":\"静岡県富士宮市大岩３８８番地\"}}]\n",
      "[{\"geometry\":{\"coordinates\":[138.640533,35.230549],\"type\":\"Point\"},\"type\":\"Feature\",\"properties\":{\"addressCode\":\"\",\"title\":\"静岡県富士宮市大岩１５６５番地\"}}]\n",
      "[{\"geometry\":{\"coordinates\":[138.592056,35.216782],\"type\":\"Point\"},\"type\":\"Feature\",\"properties\":{\"addressCode\":\"\",\"title\":\"静岡県富士宮市大中里１４４４番地\"}}]\n",
      "[{\"geometry\":{\"coordinates\":[138.591766,35.22998],\"type\":\"Point\"},\"type\":\"Feature\",\"properties\":{\"addressCode\":\"\",\"title\":\"静岡県富士宮市大中里１７３３番地\"}}]\n",
      "[{\"geometry\":{\"coordinates\":[138.605484,35.325951],\"type\":\"Point\"},\"type\":\"Feature\",\"properties\":{\"addressCode\":\"\",\"title\":\"静岡県富士宮市上井出\"}}]\n",
      "[{\"geometry\":{\"coordinates\":[138.594162,35.315372],\"type\":\"Point\"},\"type\":\"Feature\",\"properties\":{\"addressCode\":\"\",\"title\":\"静岡県富士宮市上井出８２５番地\"}}]\n",
      "[{\"geometry\":{\"coordinates\":[138.591568,35.315163],\"type\":\"Point\"},\"type\":\"Feature\",\"properties\":{\"addressCode\":\"\",\"title\":\"静岡県富士宮市上井出８５４番地\"}}]\n",
      "[{\"geometry\":{\"coordinates\":[138.600143,35.310932],\"type\":\"Point\"},\"type\":\"Feature\",\"properties\":{\"addressCode\":\"\",\"title\":\"静岡県富士宮市上井出２２５３番地\"}}]\n",
      "[{\"geometry\":{\"coordinates\":[138.59816,35.339848],\"type\":\"Point\"},\"type\":\"Feature\",\"properties\":{\"addressCode\":\"\",\"title\":\"静岡県富士宮市上井出３７７６番地\"}}]\n",
      "[{\"geometry\":{\"coordinates\":[138.584229,35.276947],\"type\":\"Point\"},\"type\":\"Feature\",\"properties\":{\"addressCode\":\"\",\"title\":\"静岡県富士宮市上条４３８番地\"}}]\n",
      "[{\"geometry\":{\"coordinates\":[138.584625,35.28524],\"type\":\"Point\"},\"type\":\"Feature\",\"properties\":{\"addressCode\":\"\",\"title\":\"静岡県富士宮市上条\"}}]\n",
      "[{\"geometry\":{\"coordinates\":[138.602325,35.275265],\"type\":\"Point\"},\"type\":\"Feature\",\"properties\":{\"addressCode\":\"\",\"title\":\"静岡県富士宮市北山５０３番地\"}}]\n",
      "[{\"geometry\":{\"coordinates\":[138.641251,35.315876],\"type\":\"Point\"},\"type\":\"Feature\",\"properties\":{\"addressCode\":\"\",\"title\":\"静岡県富士宮市北山\"}}]\n",
      "[{\"geometry\":{\"coordinates\":[138.604279,35.284824],\"type\":\"Point\"},\"type\":\"Feature\",\"properties\":{\"addressCode\":\"\",\"title\":\"静岡県富士宮市北山１５３９番地\"}}]\n",
      "[{\"geometry\":{\"coordinates\":[138.608231,35.267948],\"type\":\"Point\"},\"type\":\"Feature\",\"properties\":{\"addressCode\":\"\",\"title\":\"静岡県富士宮市北山５２１４番地\"}}]\n",
      "[{\"geometry\":{\"coordinates\":[138.635956,35.210094],\"type\":\"Point\"},\"type\":\"Feature\",\"properties\":{\"addressCode\":\"\",\"title\":\"静岡県富士宮市小泉２３７番地\"}}]\n",
      "[{\"geometry\":{\"coordinates\":[138.631332,35.217445],\"type\":\"Point\"},\"type\":\"Feature\",\"properties\":{\"addressCode\":\"\",\"title\":\"静岡県富士宮市小泉７２０番地\"}}]\n",
      "[{\"geometry\":{\"coordinates\":[138.629715,35.226002],\"type\":\"Point\"},\"type\":\"Feature\",\"properties\":{\"addressCode\":\"\",\"title\":\"静岡県富士宮市小泉１１７２番地\"}}]\n",
      "[{\"geometry\":{\"coordinates\":[138.630646,35.222393],\"type\":\"Point\"},\"type\":\"Feature\",\"properties\":{\"addressCode\":\"\",\"title\":\"静岡県富士宮市小泉１８０１番地\"}}]\n",
      "[{\"geometry\":{\"coordinates\":[138.636673,35.221657],\"type\":\"Point\"},\"type\":\"Feature\",\"properties\":{\"addressCode\":\"\",\"title\":\"静岡県富士宮市小泉１９３０番地\"}}]\n",
      "[{\"geometry\":{\"coordinates\":[138.64241,35.22324],\"type\":\"Point\"},\"type\":\"Feature\",\"properties\":{\"addressCode\":\"\",\"title\":\"静岡県富士宮市小泉２０６１番地\"}}]\n",
      "[{\"geometry\":{\"coordinates\":[138.630173,35.215927],\"type\":\"Point\"},\"type\":\"Feature\",\"properties\":{\"addressCode\":\"\",\"title\":\"静岡県富士宮市小泉２８６２番地\"}}]\n",
      "[{\"geometry\":{\"coordinates\":[138.576508,35.274578],\"type\":\"Point\"},\"type\":\"Feature\",\"properties\":{\"addressCode\":\"\",\"title\":\"静岡県富士宮市下条４８５番地\"}}]\n",
      "[{\"geometry\":{\"coordinates\":[138.577057,35.271427],\"type\":\"Point\"},\"type\":\"Feature\",\"properties\":{\"addressCode\":\"\",\"title\":\"静岡県富士宮市下条６２４番地\"}}]\n",
      "[{\"geometry\":{\"coordinates\":[138.658737,35.212364],\"type\":\"Point\"},\"type\":\"Feature\",\"properties\":{\"addressCode\":\"\",\"title\":\"静岡県富士宮市杉田２００番地\"}}]\n",
      "[{\"geometry\":{\"coordinates\":[138.664032,35.216896],\"type\":\"Point\"},\"type\":\"Feature\",\"properties\":{\"addressCode\":\"\",\"title\":\"静岡県富士宮市杉田３００番地\"}}]\n",
      "[{\"geometry\":{\"coordinates\":[138.595627,35.247807],\"type\":\"Point\"},\"type\":\"Feature\",\"properties\":{\"addressCode\":\"\",\"title\":\"静岡県富士宮市外神１２７３番地\"}}]\n",
      "[{\"geometry\":{\"coordinates\":[138.614319,35.258442],\"type\":\"Point\"},\"type\":\"Feature\",\"properties\":{\"addressCode\":\"\",\"title\":\"静岡県富士宮市外神東町２４１番地\"}}]\n",
      "[{\"geometry\":{\"coordinates\":[138.618622,35.244896],\"type\":\"Point\"},\"type\":\"Feature\",\"properties\":{\"addressCode\":\"\",\"title\":\"静岡県富士宮市中原町６番地\"}}]\n",
      "[{\"geometry\":{\"coordinates\":[138.629379,35.218765],\"type\":\"Point\"},\"type\":\"Feature\",\"properties\":{\"addressCode\":\"\",\"title\":\"静岡県富士宮市西小泉町\"}}]\n",
      "[{\"geometry\":{\"coordinates\":[138.591995,35.194756],\"type\":\"Point\"},\"type\":\"Feature\",\"properties\":{\"addressCode\":\"\",\"title\":\"静岡県富士宮市沼久保８２番地\"}}]\n",
      "[{\"geometry\":{\"coordinates\":[138.625565,35.227699],\"type\":\"Point\"},\"type\":\"Feature\",\"properties\":{\"addressCode\":\"\",\"title\":\"静岡県富士宮市東阿幸地６９８番地\"}}]\n",
      "[{\"geometry\":{\"coordinates\":[138.637909,35.249924],\"type\":\"Point\"},\"type\":\"Feature\",\"properties\":{\"addressCode\":\"\",\"title\":\"静岡県富士宮市舟久保町１６番\"}}]\n",
      "[{\"geometry\":{\"coordinates\":[138.616898,35.208862],\"type\":\"Point\"},\"type\":\"Feature\",\"properties\":{\"addressCode\":\"\",\"title\":\"静岡県富士宮市星山９８４番地\"}}]\n",
      "[{\"geometry\":{\"coordinates\":[138.621597,35.24213],\"type\":\"Point\"},\"type\":\"Feature\",\"properties\":{\"addressCode\":\"\",\"title\":\"静岡県富士宮市舞々木町２６０番地\"}}]\n",
      "[{\"geometry\":{\"coordinates\":[138.62999,35.213394],\"type\":\"Point\"},\"type\":\"Feature\",\"properties\":{\"addressCode\":\"\",\"title\":\"静岡県富士宮市前田町１３４番地\"}}]\n",
      "[{\"geometry\":{\"coordinates\":[138.62085,35.248116],\"type\":\"Point\"},\"type\":\"Feature\",\"properties\":{\"addressCode\":\"\",\"title\":\"静岡県富士宮市万野原新田３２５７番地\"}}]\n",
      "[{\"geometry\":{\"coordinates\":[138.624863,35.251904],\"type\":\"Point\"},\"type\":\"Feature\",\"properties\":{\"addressCode\":\"\",\"title\":\"静岡県富士宮市万野原新田\"}}]\n",
      "[{\"geometry\":{\"coordinates\":[138.622498,35.250072],\"type\":\"Point\"},\"type\":\"Feature\",\"properties\":{\"addressCode\":\"\",\"title\":\"静岡県富士宮市万野原新田３２８１番地\"}}]\n",
      "[{\"geometry\":{\"coordinates\":[138.622131,35.257111],\"type\":\"Point\"},\"type\":\"Feature\",\"properties\":{\"addressCode\":\"\",\"title\":\"静岡県富士宮市万野原新田４０３２番地\"}}]\n",
      "[{\"geometry\":{\"coordinates\":[138.611069,35.244041],\"type\":\"Point\"},\"type\":\"Feature\",\"properties\":{\"addressCode\":\"\",\"title\":\"静岡県富士宮市三園平５８７番地\"}}]\n",
      "[{\"geometry\":{\"coordinates\":[138.609802,35.247795],\"type\":\"Point\"},\"type\":\"Feature\",\"properties\":{\"addressCode\":\"\",\"title\":\"静岡県富士宮市宮原９９番地\"}}]\n",
      "[{\"geometry\":{\"coordinates\":[138.611008,35.247578],\"type\":\"Point\"},\"type\":\"Feature\",\"properties\":{\"addressCode\":\"\",\"title\":\"静岡県富士宮市宮原３７８番地\"}}]\n",
      "[{\"geometry\":{\"coordinates\":[138.611008,35.247578],\"type\":\"Point\"},\"type\":\"Feature\",\"properties\":{\"addressCode\":\"\",\"title\":\"静岡県富士宮市宮原３８３番地\"}}]\n",
      "[{\"geometry\":{\"coordinates\":[138.607574,35.252129],\"type\":\"Point\"},\"type\":\"Feature\",\"properties\":{\"addressCode\":\"\",\"title\":\"静岡県富士宮市宮原７０７番地\"}}]\n",
      "[{\"geometry\":{\"coordinates\":[138.661728,35.26746],\"type\":\"Point\"},\"type\":\"Feature\",\"properties\":{\"addressCode\":\"\",\"title\":\"静岡県富士宮市村山１３２２番地\"}}]\n",
      "[{\"geometry\":{\"coordinates\":[138.625809,35.22377],\"type\":\"Point\"},\"type\":\"Feature\",\"properties\":{\"addressCode\":\"\",\"title\":\"静岡県富士宮市矢立町１０００番地\"}}]\n",
      "[{\"geometry\":{\"coordinates\":[138.63179,35.257812],\"type\":\"Point\"},\"type\":\"Feature\",\"properties\":{\"addressCode\":\"\",\"title\":\"静岡県富士宮市山宮３１番地\"}}]\n",
      "[{\"geometry\":{\"coordinates\":[138.607727,35.242939],\"type\":\"Point\"},\"type\":\"Feature\",\"properties\":{\"addressCode\":\"\",\"title\":\"静岡県富士宮市淀師１１５９番地\"}}]\n",
      "[{\"geometry\":{\"coordinates\":[138.600418,35.242371],\"type\":\"Point\"},\"type\":\"Feature\",\"properties\":{\"addressCode\":\"\",\"title\":\"静岡県富士宮市淀師１６５９番地\"}}]\n",
      "[{\"geometry\":{\"coordinates\":[138.619888,35.226719],\"type\":\"Point\"},\"type\":\"Feature\",\"properties\":{\"addressCode\":\"\",\"title\":\"静岡県富士宮市阿幸地町４０８番地\"}}]\n",
      "[{\"geometry\":{\"coordinates\":[138.621933,35.229164],\"type\":\"Point\"},\"type\":\"Feature\",\"properties\":{\"addressCode\":\"\",\"title\":\"静岡県富士宮市阿幸地町\"}}]\n",
      "[{\"geometry\":{\"coordinates\":[138.604401,35.231812],\"type\":\"Point\"},\"type\":\"Feature\",\"properties\":{\"addressCode\":\"\",\"title\":\"静岡県富士宮市朝日町１９番１号\"}}]\n",
      "[{\"geometry\":{\"coordinates\":[138.604416,35.23444],\"type\":\"Point\"},\"type\":\"Feature\",\"properties\":{\"addressCode\":\"\",\"title\":\"静岡県富士宮市朝日町２２番２７号\"}}]\n",
      "[{\"geometry\":{\"coordinates\":[138.61351,35.220619],\"type\":\"Point\"},\"type\":\"Feature\",\"properties\":{\"addressCode\":\"\",\"title\":\"静岡県富士宮市浅間町１番８号\"}}]\n",
      "[{\"geometry\":{\"coordinates\":[138.61351,35.220619],\"type\":\"Point\"},\"type\":\"Feature\",\"properties\":{\"addressCode\":\"\",\"title\":\"静岡県富士宮市浅間町１番８号\"}}]\n",
      "[{\"geometry\":{\"coordinates\":[138.601242,35.222866],\"type\":\"Point\"},\"type\":\"Feature\",\"properties\":{\"addressCode\":\"\",\"title\":\"静岡県富士宮市泉町６２４番地\"}}]\n",
      "[{\"geometry\":{\"coordinates\":[138.596481,35.218872],\"type\":\"Point\"},\"type\":\"Feature\",\"properties\":{\"addressCode\":\"\",\"title\":\"静岡県富士宮市大中里１１８６番地\"}}]\n",
      "[{\"geometry\":{\"coordinates\":[138.611481,35.224491],\"type\":\"Point\"},\"type\":\"Feature\",\"properties\":{\"addressCode\":\"\",\"title\":\"静岡県富士宮市大宮町２番５号\"}}]\n",
      "[{\"geometry\":{\"coordinates\":[138.612442,35.224838],\"type\":\"Point\"},\"type\":\"Feature\",\"properties\":{\"addressCode\":\"\",\"title\":\"静岡県富士宮市大宮町７番１６号\"}}]\n",
      "[{\"geometry\":{\"coordinates\":[138.613388,35.224281],\"type\":\"Point\"},\"type\":\"Feature\",\"properties\":{\"addressCode\":\"\",\"title\":\"静岡県富士宮市大宮町１２番１４号\"}}]\n",
      "[{\"geometry\":{\"coordinates\":[138.61264,35.223713],\"type\":\"Point\"},\"type\":\"Feature\",\"properties\":{\"addressCode\":\"\",\"title\":\"静岡県富士宮市大宮町１３番１７号\"}}]\n",
      "[{\"geometry\":{\"coordinates\":[138.610474,35.223408],\"type\":\"Point\"},\"type\":\"Feature\",\"properties\":{\"addressCode\":\"\",\"title\":\"静岡県富士宮市大宮町２１番１号\"}}]\n",
      "[{\"geometry\":{\"coordinates\":[138.612564,35.2229],\"type\":\"Point\"},\"type\":\"Feature\",\"properties\":{\"addressCode\":\"\",\"title\":\"静岡県富士宮市大宮町２５番８号\"}}]\n",
      "[{\"geometry\":{\"coordinates\":[138.613373,35.222416],\"type\":\"Point\"},\"type\":\"Feature\",\"properties\":{\"addressCode\":\"\",\"title\":\"静岡県富士宮市大宮町３０番７号\"}}]\n",
      "[{\"geometry\":{\"coordinates\":[138.613358,35.236629],\"type\":\"Point\"},\"type\":\"Feature\",\"properties\":{\"addressCode\":\"\",\"title\":\"静岡県富士宮市北町９番１４号\"}}]\n",
      "[{\"geometry\":{\"coordinates\":[138.6026,35.226276],\"type\":\"Point\"},\"type\":\"Feature\",\"properties\":{\"addressCode\":\"\",\"title\":\"静岡県富士宮市貴船町２番９号\"}}]\n",
      "[{\"geometry\":{\"coordinates\":[138.601089,35.227398],\"type\":\"Point\"},\"type\":\"Feature\",\"properties\":{\"addressCode\":\"\",\"title\":\"静岡県富士宮市貴船町９番８号\"}}]\n",
      "[{\"geometry\":{\"coordinates\":[138.600266,35.22897],\"type\":\"Point\"},\"type\":\"Feature\",\"properties\":{\"addressCode\":\"\",\"title\":\"静岡県富士宮市貴船町１１番１４号\"}}]\n",
      "[{\"geometry\":{\"coordinates\":[138.60054,35.228996],\"type\":\"Point\"},\"type\":\"Feature\",\"properties\":{\"addressCode\":\"\",\"title\":\"静岡県富士宮市貴船町１２番１号\"}}]\n",
      "[{\"geometry\":{\"coordinates\":[138.618484,35.232708],\"type\":\"Point\"},\"type\":\"Feature\",\"properties\":{\"addressCode\":\"\",\"title\":\"静岡県富士宮市城北町５３１番地\"}}]\n",
      "[{\"geometry\":{\"coordinates\":[138.608841,35.228241],\"type\":\"Point\"},\"type\":\"Feature\",\"properties\":{\"addressCode\":\"\",\"title\":\"静岡県富士宮市宝町１番２号\"}}]\n",
      "[{\"geometry\":{\"coordinates\":[138.608322,35.228252],\"type\":\"Point\"},\"type\":\"Feature\",\"properties\":{\"addressCode\":\"\",\"title\":\"静岡県富士宮市宝町１番５号\"}}]\n",
      "[{\"geometry\":{\"coordinates\":[138.604813,35.229198],\"type\":\"Point\"},\"type\":\"Feature\",\"properties\":{\"addressCode\":\"\",\"title\":\"静岡県富士宮市宝町１１番２４号\"}}]\n",
      "[{\"geometry\":{\"coordinates\":[138.603668,35.229645],\"type\":\"Point\"},\"type\":\"Feature\",\"properties\":{\"addressCode\":\"\",\"title\":\"静岡県富士宮市宝町１２番１２号\"}}]\n",
      "[{\"geometry\":{\"coordinates\":[138.614731,35.223236],\"type\":\"Point\"},\"type\":\"Feature\",\"properties\":{\"addressCode\":\"\",\"title\":\"静岡県富士宮市中央町３番９号\"}}]\n",
      "[{\"geometry\":{\"coordinates\":[138.614609,35.222477],\"type\":\"Point\"},\"type\":\"Feature\",\"properties\":{\"addressCode\":\"\",\"title\":\"静岡県富士宮市中央町４番１１号\"}}]\n",
      "[{\"geometry\":{\"coordinates\":[138.614822,35.223],\"type\":\"Point\"},\"type\":\"Feature\",\"properties\":{\"addressCode\":\"\",\"title\":\"静岡県富士宮市中央町７番１８号\"}}]\n",
      "[{\"geometry\":{\"coordinates\":[138.615387,35.224365],\"type\":\"Point\"},\"type\":\"Feature\",\"properties\":{\"addressCode\":\"\",\"title\":\"静岡県富士宮市中央町９番３号\"}}]\n",
      "[{\"geometry\":{\"coordinates\":[138.617416,35.219872],\"type\":\"Point\"},\"type\":\"Feature\",\"properties\":{\"addressCode\":\"\",\"title\":\"静岡県富士宮市錦町６番１４号\"}}]\n",
      "[{\"geometry\":{\"coordinates\":[138.606461,35.225384],\"type\":\"Point\"},\"type\":\"Feature\",\"properties\":{\"addressCode\":\"\",\"title\":\"静岡県富士宮市西町４番１２号\"}}]\n",
      "[{\"geometry\":{\"coordinates\":[138.605453,35.225132],\"type\":\"Point\"},\"type\":\"Feature\",\"properties\":{\"addressCode\":\"\",\"title\":\"静岡県富士宮市西町１６番３号\"}}]\n",
      "[{\"geometry\":{\"coordinates\":[138.603821,35.227596],\"type\":\"Point\"},\"type\":\"Feature\",\"properties\":{\"addressCode\":\"\",\"title\":\"静岡県富士宮市西町２１番７号\"}}]\n",
      "[{\"geometry\":{\"coordinates\":[138.603775,35.225616],\"type\":\"Point\"},\"type\":\"Feature\",\"properties\":{\"addressCode\":\"\",\"title\":\"静岡県富士宮市西町２５番２号\"}}]\n",
      "[{\"geometry\":{\"coordinates\":[138.605728,35.212021],\"type\":\"Point\"},\"type\":\"Feature\",\"properties\":{\"addressCode\":\"\",\"title\":\"静岡県富士宮市野中\"}}]\n",
      "[{\"geometry\":{\"coordinates\":[138.610397,35.216881],\"type\":\"Point\"},\"type\":\"Feature\",\"properties\":{\"addressCode\":\"\",\"title\":\"静岡県富士宮市野中東町３４番地\"}}]\n",
      "[{\"geometry\":{\"coordinates\":[138.609177,35.216171],\"type\":\"Point\"},\"type\":\"Feature\",\"properties\":{\"addressCode\":\"\",\"title\":\"静岡県富士宮市野中東町１１２番地\"}}]\n",
      "[{\"geometry\":{\"coordinates\":[138.610641,35.215603],\"type\":\"Point\"},\"type\":\"Feature\",\"properties\":{\"addressCode\":\"\",\"title\":\"静岡県富士宮市野中東町１１９番地\"}}]\n",
      "[{\"geometry\":{\"coordinates\":[138.608459,35.21664],\"type\":\"Point\"},\"type\":\"Feature\",\"properties\":{\"addressCode\":\"\",\"title\":\"静岡県富士宮市野中東町１７８番地\"}}]\n",
      "[{\"geometry\":{\"coordinates\":[138.62326,35.231087],\"type\":\"Point\"},\"type\":\"Feature\",\"properties\":{\"addressCode\":\"\",\"title\":\"静岡県富士宮市東阿幸地１１６番地\"}}]\n",
      "[{\"geometry\":{\"coordinates\":[138.623596,35.229614],\"type\":\"Point\"},\"type\":\"Feature\",\"properties\":{\"addressCode\":\"\",\"title\":\"静岡県富士宮市東阿幸地５９５番地\"}}]\n",
      "[{\"geometry\":{\"coordinates\":[138.616241,35.222298],\"type\":\"Point\"},\"type\":\"Feature\",\"properties\":{\"addressCode\":\"\",\"title\":\"静岡県富士宮市東町２３番１号\"}}]\n",
      "[{\"geometry\":{\"coordinates\":[138.607864,35.231796],\"type\":\"Point\"},\"type\":\"Feature\",\"properties\":{\"addressCode\":\"\",\"title\":\"静岡県富士宮市光町８番８号\"}}]\n",
      "[{\"geometry\":{\"coordinates\":[138.611404,35.233765],\"type\":\"Point\"},\"type\":\"Feature\",\"properties\":{\"addressCode\":\"\",\"title\":\"静岡県富士宮市光町１３番１０号\"}}]\n",
      "[{\"geometry\":{\"coordinates\":[138.612015,35.233551],\"type\":\"Point\"},\"type\":\"Feature\",\"properties\":{\"addressCode\":\"\",\"title\":\"静岡県富士宮市光町１３番１４号\"}}]\n",
      "[{\"geometry\":{\"coordinates\":[138.609497,35.232937],\"type\":\"Point\"},\"type\":\"Feature\",\"properties\":{\"addressCode\":\"\",\"title\":\"静岡県富士宮市光町１４番９号\"}}]\n",
      "[{\"geometry\":{\"coordinates\":[138.617569,35.237492],\"type\":\"Point\"},\"type\":\"Feature\",\"properties\":{\"addressCode\":\"\",\"title\":\"静岡県富士宮市ひばりが丘２８７番地\"}}]\n",
      "[{\"geometry\":{\"coordinates\":[138.623505,35.235241],\"type\":\"Point\"},\"type\":\"Feature\",\"properties\":{\"addressCode\":\"\",\"title\":\"静岡県富士宮市富士見ケ丘\"}}]\n",
      "[{\"geometry\":{\"coordinates\":[138.62468,35.23225],\"type\":\"Point\"},\"type\":\"Feature\",\"properties\":{\"addressCode\":\"\",\"title\":\"静岡県富士宮市富士見ケ丘１０５２番地\"}}]\n",
      "[{\"geometry\":{\"coordinates\":[138.622314,35.232735],\"type\":\"Point\"},\"type\":\"Feature\",\"properties\":{\"addressCode\":\"\",\"title\":\"静岡県富士宮市富士見ケ丘１２４１番地\"}}]\n",
      "[{\"geometry\":{\"coordinates\":[138.598312,35.234489],\"type\":\"Point\"},\"type\":\"Feature\",\"properties\":{\"addressCode\":\"\",\"title\":\"静岡県富士宮市穂波町１１番地\"}}]\n",
      "[{\"geometry\":{\"coordinates\":[138.622894,35.240936],\"type\":\"Point\"},\"type\":\"Feature\",\"properties\":{\"addressCode\":\"\",\"title\":\"静岡県富士宮市舞々木町\"}}]\n",
      "[{\"geometry\":{\"coordinates\":[138.613663,35.238873],\"type\":\"Point\"},\"type\":\"Feature\",\"properties\":{\"addressCode\":\"\",\"title\":\"静岡県富士宮市三園平２３３番地\"}}]\n",
      "[{\"geometry\":{\"coordinates\":[138.616913,35.238983],\"type\":\"Point\"},\"type\":\"Feature\",\"properties\":{\"addressCode\":\"\",\"title\":\"静岡県富士宮市三園平１６４４番地\"}}]\n",
      "[{\"geometry\":{\"coordinates\":[138.616913,35.238983],\"type\":\"Point\"},\"type\":\"Feature\",\"properties\":{\"addressCode\":\"\",\"title\":\"静岡県富士宮市三園平１６７９番地\"}}]\n",
      "[{\"geometry\":{\"coordinates\":[138.610535,35.225037],\"type\":\"Point\"},\"type\":\"Feature\",\"properties\":{\"addressCode\":\"\",\"title\":\"静岡県富士宮市宮町１番１号\"}}]\n",
      "[{\"geometry\":{\"coordinates\":[138.610214,35.225143],\"type\":\"Point\"},\"type\":\"Feature\",\"properties\":{\"addressCode\":\"\",\"title\":\"静岡県富士宮市宮町１番３号\"}}]\n",
      "[{\"geometry\":{\"coordinates\":[138.610199,35.224991],\"type\":\"Point\"},\"type\":\"Feature\",\"properties\":{\"addressCode\":\"\",\"title\":\"静岡県富士宮市宮町４番２３号\"}}]\n",
      "[{\"geometry\":{\"coordinates\":[138.610199,35.224991],\"type\":\"Point\"},\"type\":\"Feature\",\"properties\":{\"addressCode\":\"\",\"title\":\"静岡県富士宮市宮町４番２３号\"}}]\n",
      "[{\"geometry\":{\"coordinates\":[138.610199,35.224991],\"type\":\"Point\"},\"type\":\"Feature\",\"properties\":{\"addressCode\":\"\",\"title\":\"静岡県富士宮市宮町４番２３号\"}}]\n",
      "[{\"geometry\":{\"coordinates\":[138.609253,35.223232],\"type\":\"Point\"},\"type\":\"Feature\",\"properties\":{\"addressCode\":\"\",\"title\":\"静岡県富士宮市宮町６番１号\"}}]\n",
      "[{\"geometry\":{\"coordinates\":[138.608627,35.223408],\"type\":\"Point\"},\"type\":\"Feature\",\"properties\":{\"addressCode\":\"\",\"title\":\"静岡県富士宮市宮町６番５号\"}}]\n",
      "[{\"geometry\":{\"coordinates\":[138.616821,35.225716],\"type\":\"Point\"},\"type\":\"Feature\",\"properties\":{\"addressCode\":\"\",\"title\":\"静岡県富士宮市元城町９番１９号\"}}]\n",
      "[{\"geometry\":{\"coordinates\":[138.616638,35.227436],\"type\":\"Point\"},\"type\":\"Feature\",\"properties\":{\"addressCode\":\"\",\"title\":\"静岡県富士宮市元城町１０番１５号\"}}]\n",
      "[{\"geometry\":{\"coordinates\":[138.615356,35.227276],\"type\":\"Point\"},\"type\":\"Feature\",\"properties\":{\"addressCode\":\"\",\"title\":\"静岡県富士宮市元城町１２番１０号\"}}]\n",
      "[{\"geometry\":{\"coordinates\":[138.615402,35.226536],\"type\":\"Point\"},\"type\":\"Feature\",\"properties\":{\"addressCode\":\"\",\"title\":\"静岡県富士宮市元城町１３番２０号\"}}]\n",
      "[{\"geometry\":{\"coordinates\":[138.619568,35.225243],\"type\":\"Point\"},\"type\":\"Feature\",\"properties\":{\"addressCode\":\"\",\"title\":\"静岡県富士宮市矢立町１９５番地\"}}]\n",
      "[{\"geometry\":{\"coordinates\":[138.623932,35.227486],\"type\":\"Point\"},\"type\":\"Feature\",\"properties\":{\"addressCode\":\"\",\"title\":\"静岡県富士宮市矢立町６５８番地\"}}]\n",
      "[{\"geometry\":{\"coordinates\":[138.613129,35.229958],\"type\":\"Point\"},\"type\":\"Feature\",\"properties\":{\"addressCode\":\"\",\"title\":\"静岡県富士宮市豊町９番４号\"}}]\n",
      "[{\"geometry\":{\"coordinates\":[138.601364,35.231846],\"type\":\"Point\"},\"type\":\"Feature\",\"properties\":{\"addressCode\":\"\",\"title\":\"静岡県富士宮市淀川町２２番１８号\"}}]\n",
      "[{\"geometry\":{\"coordinates\":[138.599533,35.231209],\"type\":\"Point\"},\"type\":\"Feature\",\"properties\":{\"addressCode\":\"\",\"title\":\"静岡県富士宮市淀川町３２番６号\"}}]\n",
      "[{\"geometry\":{\"coordinates\":[138.599899,35.233841],\"type\":\"Point\"},\"type\":\"Feature\",\"properties\":{\"addressCode\":\"\",\"title\":\"静岡県富士宮市淀川町３６番１５号\"}}]\n",
      "[{\"geometry\":{\"coordinates\":[138.600082,35.236637],\"type\":\"Point\"},\"type\":\"Feature\",\"properties\":{\"addressCode\":\"\",\"title\":\"静岡県富士宮市淀師１３６番地\"}}]\n",
      "[{\"geometry\":{\"coordinates\":[138.596466,35.236973],\"type\":\"Point\"},\"type\":\"Feature\",\"properties\":{\"addressCode\":\"\",\"title\":\"静岡県富士宮市淀師４１５番地\"}}]\n",
      "[{\"geometry\":{\"coordinates\":[138.596283,35.240753],\"type\":\"Point\"},\"type\":\"Feature\",\"properties\":{\"addressCode\":\"\",\"title\":\"静岡県富士宮市淀師４６８番地\"}}]\n",
      "[{\"geometry\":{\"coordinates\":[138.599899,35.238823],\"type\":\"Point\"},\"type\":\"Feature\",\"properties\":{\"addressCode\":\"\",\"title\":\"静岡県富士宮市淀師５８３番地\"}}]\n",
      "[{\"geometry\":{\"coordinates\":[138.615768,35.231644],\"type\":\"Point\"},\"type\":\"Feature\",\"properties\":{\"addressCode\":\"\",\"title\":\"静岡県富士宮市若の宮町３２番地\"}}]\n"
     ]
    }
   ],
   "metadata": {
    "scrolled": true,
    "slideshow": {
     "slide_type": "slide"
    }
   }
  },
  {
   "cell_type": "code",
   "execution_count": 48,
   "source": [
    "yakisoba_all.to_csv(\"yakisoba_all_loclat.csv\",encoding=\"utf-8\")\r\n",
    "yakisoba_all.to_csv(\"yakisoba_all_loclat_sjis.csv\",encoding=\"cp932\")"
   ],
   "outputs": [],
   "metadata": {}
  },
  {
   "cell_type": "code",
   "execution_count": 50,
   "source": [
    "px.set_mapbox_access_token(mapbox_token)\r\n",
    "\r\n",
    "fig = px.scatter_mapbox(yakisoba_all, lat=\"lat\", lon=\"lon\", hover_name=\"店名\",\r\n",
    "                zoom=9, title=\"富士宮焼きそばマップ\")\r\n",
    "fig.show()"
   ],
   "outputs": [
    {
     "output_type": "display_data",
     "data": {
      "application/vnd.plotly.v1+json": {
       "config": {
        "plotlyServerURL": "https://plot.ly"
       },
       "data": [
        {
         "hovertemplate": "<b>%{hovertext}</b><br><br>lat=%{lat}<br>lon=%{lon}<extra></extra>",
         "hovertext": [
          "すぎ本（お宮横丁）",
          "お食事処岩市",
          "ままん",
          "みっちゃん家",
          "わびすけ",
          "ろばた焼一心",
          "おざわ酒店",
          "安曇野",
          "むすび屋",
          "つかさ",
          "かいじ",
          "豊延",
          "とおり道",
          "あおい",
          "ペイジ",
          "ふじの食堂",
          "富士山にこにこ長屋",
          "ふくじん",
          "ふくいや",
          "平石屋",
          "夢千代",
          "あご山",
          "ふくろう",
          "丸太",
          "まかいの牧場内 ぼんぼり",
          "おのちゃん",
          "泉花",
          "祭りや",
          "お好み焼 いち川",
          "パピ",
          "天神橋",
          "むめさん",
          "お食事処 とし",
          "五平茶屋",
          "白扇",
          "お好焼 まんぷく",
          "あっぷる",
          "清ふじ",
          "ふじた食堂",
          "お好み焼 京",
          "いじわるまま",
          "居酒屋 きっこ",
          "いつものところ",
          "小料理屋 あい",
          "金太郎",
          "長谷川商店",
          "なごみや",
          "よない",
          "なみ",
          "お好み焼きハウス 名月",
          "千貫くいどころ",
          "焼そば・お好み うめづ",
          "鉄板焼 さいごう",
          "鉄板焼 ちゃん バイパス店",
          "テン＆テン",
          "浦田商店",
          "ぼて福",
          "おたふく",
          "ますみ",
          "焼そば はうすぴ－す",
          "喫茶 暫",
          "お好み焼 内藤",
          "ぱな（コヌマフード）",
          "すずきお好み",
          "ゆぐち",
          "めぐみ",
          "ふくや",
          "ＶＩＶＡ せいけふーど",
          "よしの",
          "ラーメン朝日",
          "おこのみハウス 平ゆう",
          "渡辺商店",
          "チャンティック",
          "ばんばん",
          "なかど",
          "こんどう",
          "たぬき",
          "ひこの",
          "稲葉商店",
          "たこ膳",
          "パン工場富士宮店",
          "一休",
          "アンデス",
          "瓔珞(ようらく)",
          "ハーベスト",
          "つぼ半",
          "ゴールド",
          "さの食堂",
          "かわにし",
          "ぴいぷる水上",
          "姫たこ",
          "ふみ",
          "マルコウ",
          "おじまや",
          "きぶね亭",
          "遊味亭",
          "やまだ食堂",
          "味菜",
          "こもれび",
          "お好み焼　夢",
          "虹屋ミミ",
          "炎や",
          "キッチントトロ",
          "鉄板焼 ちゃん 駅前店",
          "ぐるっぺ",
          "じねん坊",
          "鉄板焼 すぎ本",
          "うたちゃん",
          "いろは亭",
          "杉山",
          "味わい処　小粋",
          "お好焼 あき",
          "虹屋",
          "ホロタチェーンポテト野中店",
          "野武士",
          "わたなべ お好焼",
          "鉄板お好焼 すぎやま",
          "さくらんぼ",
          "プリンス",
          "お好み焼 金森",
          "お好み焼き ひかり",
          "喫茶ヴィーナス",
          "お好み焼 ふじ",
          "こまつや",
          "ホロタチェーンベスト電器富士宮店",
          "穂波屋",
          "やまちゃん",
          "オレンジペコ",
          "喫茶軽食 ミミ",
          "みます家",
          "ここずらよ",
          "シーズ あるばとろす",
          "富士宮やきそば学会アンテナショップ",
          "すぎ本（お宮横丁内）",
          "むすび屋（お宮横丁内）",
          "宮膳つたや",
          "富士巻食堂",
          "ソバージュ",
          "ミマスヤ２",
          "大阪屋",
          "あさ家",
          "前島",
          "お好み焼 くぼた",
          "みち草",
          "若林たばこ店",
          "焼そばハウス",
          "ホロタチェーンポテト淀川店",
          "大勝",
          "うるおいてい",
          "お好み食堂 伊東",
          "しまい",
          "ひまわり"
         ],
         "lat": [
          35.224991,
          35.224586,
          35.22504,
          35.229198,
          35.216354,
          35.231007,
          35.236752,
          35.235474,
          35.224991,
          35.325951,
          35.306538,
          35.262058,
          35.215176,
          35.243034,
          35.219212,
          35.251904,
          35.267826,
          35.223274,
          35.218826,
          35.310333,
          35.223877,
          35.215862,
          35.249496,
          35.25161,
          35.335857,
          35.243511,
          35.230549,
          35.216782,
          35.22998,
          35.325951,
          35.315372,
          35.315163,
          35.310932,
          35.339848,
          35.276947,
          35.28524,
          35.275265,
          35.315876,
          35.284824,
          35.267948,
          35.210094,
          35.217445,
          35.226002,
          35.222393,
          35.221657,
          35.22324,
          35.215927,
          35.274578,
          35.271427,
          35.212364,
          35.216896,
          35.247807,
          35.258442,
          35.244896,
          35.218765,
          35.194756,
          35.227699,
          35.249924,
          35.208862,
          35.24213,
          35.213394,
          35.248116,
          35.251904,
          35.250072,
          35.257111,
          35.244041,
          35.247795,
          35.247578,
          35.247578,
          35.252129,
          35.26746,
          35.22377,
          35.257812,
          35.242939,
          35.242371,
          35.226719,
          35.229164,
          35.231812,
          35.23444,
          35.220619,
          35.220619,
          35.222866,
          35.218872,
          35.224491,
          35.224838,
          35.224281,
          35.223713,
          35.223408,
          35.2229,
          35.222416,
          35.236629,
          35.226276,
          35.227398,
          35.22897,
          35.228996,
          35.232708,
          35.228241,
          35.228252,
          35.229198,
          35.229645,
          35.223236,
          35.222477,
          35.223,
          35.224365,
          35.219872,
          35.225384,
          35.225132,
          35.227596,
          35.225616,
          35.212021,
          35.216881,
          35.216171,
          35.215603,
          35.21664,
          35.231087,
          35.229614,
          35.222298,
          35.231796,
          35.233765,
          35.233551,
          35.232937,
          35.237492,
          35.235241,
          35.23225,
          35.232735,
          35.234489,
          35.240936,
          35.238873,
          35.238983,
          35.238983,
          35.225037,
          35.225143,
          35.224991,
          35.224991,
          35.224991,
          35.223232,
          35.223408,
          35.225716,
          35.227436,
          35.227276,
          35.226536,
          35.225243,
          35.227486,
          35.229958,
          35.231846,
          35.231209,
          35.233841,
          35.236637,
          35.236973,
          35.240753,
          35.238823,
          35.231644
         ],
         "legendgroup": "",
         "lon": [
          138.610199,
          138.611572,
          138.611862,
          138.604813,
          138.606567,
          138.624725,
          138.616074,
          138.623306,
          138.610199,
          138.605484,
          138.595825,
          138.577682,
          138.626831,
          138.609512,
          138.615936,
          138.624863,
          138.634811,
          138.616745,
          138.611862,
          138.590286,
          138.618988,
          138.586578,
          138.646347,
          138.637741,
          138.57785,
          138.629059,
          138.640533,
          138.592056,
          138.591766,
          138.605484,
          138.594162,
          138.591568,
          138.600143,
          138.59816,
          138.584229,
          138.584625,
          138.602325,
          138.641251,
          138.604279,
          138.608231,
          138.635956,
          138.631332,
          138.629715,
          138.630646,
          138.636673,
          138.64241,
          138.630173,
          138.576508,
          138.577057,
          138.658737,
          138.664032,
          138.595627,
          138.614319,
          138.618622,
          138.629379,
          138.591995,
          138.625565,
          138.637909,
          138.616898,
          138.621597,
          138.62999,
          138.62085,
          138.624863,
          138.622498,
          138.622131,
          138.611069,
          138.609802,
          138.611008,
          138.611008,
          138.607574,
          138.661728,
          138.625809,
          138.63179,
          138.607727,
          138.600418,
          138.619888,
          138.621933,
          138.604401,
          138.604416,
          138.61351,
          138.61351,
          138.601242,
          138.596481,
          138.611481,
          138.612442,
          138.613388,
          138.61264,
          138.610474,
          138.612564,
          138.613373,
          138.613358,
          138.6026,
          138.601089,
          138.600266,
          138.60054,
          138.618484,
          138.608841,
          138.608322,
          138.604813,
          138.603668,
          138.614731,
          138.614609,
          138.614822,
          138.615387,
          138.617416,
          138.606461,
          138.605453,
          138.603821,
          138.603775,
          138.605728,
          138.610397,
          138.609177,
          138.610641,
          138.608459,
          138.62326,
          138.623596,
          138.616241,
          138.607864,
          138.611404,
          138.612015,
          138.609497,
          138.617569,
          138.623505,
          138.62468,
          138.622314,
          138.598312,
          138.622894,
          138.613663,
          138.616913,
          138.616913,
          138.610535,
          138.610214,
          138.610199,
          138.610199,
          138.610199,
          138.609253,
          138.608627,
          138.616821,
          138.616638,
          138.615356,
          138.615402,
          138.619568,
          138.623932,
          138.613129,
          138.601364,
          138.599533,
          138.599899,
          138.600082,
          138.596466,
          138.596283,
          138.599899,
          138.615768
         ],
         "marker": {
          "color": "#636efa"
         },
         "mode": "markers",
         "name": "",
         "showlegend": false,
         "subplot": "mapbox",
         "type": "scattermapbox"
        }
       ],
       "layout": {
        "legend": {
         "tracegroupgap": 0
        },
        "mapbox": {
         "accesstoken": "pk.eyJ1IjoiaHJzYW5vNjQ1IiwiYSI6ImNrcnJxMjV3cDBtcXkyb285aDFxOTloN2oifQ.Y3Nedqa_T6K6Exk47VRTHQ",
         "center": {
          "lat": 35.23850298684211,
          "lon": 138.61284573026316
         },
         "domain": {
          "x": [
           0,
           1
          ],
          "y": [
           0,
           1
          ]
         },
         "zoom": 9
        },
        "template": {
         "data": {
          "bar": [
           {
            "error_x": {
             "color": "#2a3f5f"
            },
            "error_y": {
             "color": "#2a3f5f"
            },
            "marker": {
             "line": {
              "color": "#E5ECF6",
              "width": 0.5
             },
             "pattern": {
              "fillmode": "overlay",
              "size": 10,
              "solidity": 0.2
             }
            },
            "type": "bar"
           }
          ],
          "barpolar": [
           {
            "marker": {
             "line": {
              "color": "#E5ECF6",
              "width": 0.5
             },
             "pattern": {
              "fillmode": "overlay",
              "size": 10,
              "solidity": 0.2
             }
            },
            "type": "barpolar"
           }
          ],
          "carpet": [
           {
            "aaxis": {
             "endlinecolor": "#2a3f5f",
             "gridcolor": "white",
             "linecolor": "white",
             "minorgridcolor": "white",
             "startlinecolor": "#2a3f5f"
            },
            "baxis": {
             "endlinecolor": "#2a3f5f",
             "gridcolor": "white",
             "linecolor": "white",
             "minorgridcolor": "white",
             "startlinecolor": "#2a3f5f"
            },
            "type": "carpet"
           }
          ],
          "choropleth": [
           {
            "colorbar": {
             "outlinewidth": 0,
             "ticks": ""
            },
            "type": "choropleth"
           }
          ],
          "contour": [
           {
            "colorbar": {
             "outlinewidth": 0,
             "ticks": ""
            },
            "colorscale": [
             [
              0,
              "#0d0887"
             ],
             [
              0.1111111111111111,
              "#46039f"
             ],
             [
              0.2222222222222222,
              "#7201a8"
             ],
             [
              0.3333333333333333,
              "#9c179e"
             ],
             [
              0.4444444444444444,
              "#bd3786"
             ],
             [
              0.5555555555555556,
              "#d8576b"
             ],
             [
              0.6666666666666666,
              "#ed7953"
             ],
             [
              0.7777777777777778,
              "#fb9f3a"
             ],
             [
              0.8888888888888888,
              "#fdca26"
             ],
             [
              1,
              "#f0f921"
             ]
            ],
            "type": "contour"
           }
          ],
          "contourcarpet": [
           {
            "colorbar": {
             "outlinewidth": 0,
             "ticks": ""
            },
            "type": "contourcarpet"
           }
          ],
          "heatmap": [
           {
            "colorbar": {
             "outlinewidth": 0,
             "ticks": ""
            },
            "colorscale": [
             [
              0,
              "#0d0887"
             ],
             [
              0.1111111111111111,
              "#46039f"
             ],
             [
              0.2222222222222222,
              "#7201a8"
             ],
             [
              0.3333333333333333,
              "#9c179e"
             ],
             [
              0.4444444444444444,
              "#bd3786"
             ],
             [
              0.5555555555555556,
              "#d8576b"
             ],
             [
              0.6666666666666666,
              "#ed7953"
             ],
             [
              0.7777777777777778,
              "#fb9f3a"
             ],
             [
              0.8888888888888888,
              "#fdca26"
             ],
             [
              1,
              "#f0f921"
             ]
            ],
            "type": "heatmap"
           }
          ],
          "heatmapgl": [
           {
            "colorbar": {
             "outlinewidth": 0,
             "ticks": ""
            },
            "colorscale": [
             [
              0,
              "#0d0887"
             ],
             [
              0.1111111111111111,
              "#46039f"
             ],
             [
              0.2222222222222222,
              "#7201a8"
             ],
             [
              0.3333333333333333,
              "#9c179e"
             ],
             [
              0.4444444444444444,
              "#bd3786"
             ],
             [
              0.5555555555555556,
              "#d8576b"
             ],
             [
              0.6666666666666666,
              "#ed7953"
             ],
             [
              0.7777777777777778,
              "#fb9f3a"
             ],
             [
              0.8888888888888888,
              "#fdca26"
             ],
             [
              1,
              "#f0f921"
             ]
            ],
            "type": "heatmapgl"
           }
          ],
          "histogram": [
           {
            "marker": {
             "pattern": {
              "fillmode": "overlay",
              "size": 10,
              "solidity": 0.2
             }
            },
            "type": "histogram"
           }
          ],
          "histogram2d": [
           {
            "colorbar": {
             "outlinewidth": 0,
             "ticks": ""
            },
            "colorscale": [
             [
              0,
              "#0d0887"
             ],
             [
              0.1111111111111111,
              "#46039f"
             ],
             [
              0.2222222222222222,
              "#7201a8"
             ],
             [
              0.3333333333333333,
              "#9c179e"
             ],
             [
              0.4444444444444444,
              "#bd3786"
             ],
             [
              0.5555555555555556,
              "#d8576b"
             ],
             [
              0.6666666666666666,
              "#ed7953"
             ],
             [
              0.7777777777777778,
              "#fb9f3a"
             ],
             [
              0.8888888888888888,
              "#fdca26"
             ],
             [
              1,
              "#f0f921"
             ]
            ],
            "type": "histogram2d"
           }
          ],
          "histogram2dcontour": [
           {
            "colorbar": {
             "outlinewidth": 0,
             "ticks": ""
            },
            "colorscale": [
             [
              0,
              "#0d0887"
             ],
             [
              0.1111111111111111,
              "#46039f"
             ],
             [
              0.2222222222222222,
              "#7201a8"
             ],
             [
              0.3333333333333333,
              "#9c179e"
             ],
             [
              0.4444444444444444,
              "#bd3786"
             ],
             [
              0.5555555555555556,
              "#d8576b"
             ],
             [
              0.6666666666666666,
              "#ed7953"
             ],
             [
              0.7777777777777778,
              "#fb9f3a"
             ],
             [
              0.8888888888888888,
              "#fdca26"
             ],
             [
              1,
              "#f0f921"
             ]
            ],
            "type": "histogram2dcontour"
           }
          ],
          "mesh3d": [
           {
            "colorbar": {
             "outlinewidth": 0,
             "ticks": ""
            },
            "type": "mesh3d"
           }
          ],
          "parcoords": [
           {
            "line": {
             "colorbar": {
              "outlinewidth": 0,
              "ticks": ""
             }
            },
            "type": "parcoords"
           }
          ],
          "pie": [
           {
            "automargin": true,
            "type": "pie"
           }
          ],
          "scatter": [
           {
            "marker": {
             "colorbar": {
              "outlinewidth": 0,
              "ticks": ""
             }
            },
            "type": "scatter"
           }
          ],
          "scatter3d": [
           {
            "line": {
             "colorbar": {
              "outlinewidth": 0,
              "ticks": ""
             }
            },
            "marker": {
             "colorbar": {
              "outlinewidth": 0,
              "ticks": ""
             }
            },
            "type": "scatter3d"
           }
          ],
          "scattercarpet": [
           {
            "marker": {
             "colorbar": {
              "outlinewidth": 0,
              "ticks": ""
             }
            },
            "type": "scattercarpet"
           }
          ],
          "scattergeo": [
           {
            "marker": {
             "colorbar": {
              "outlinewidth": 0,
              "ticks": ""
             }
            },
            "type": "scattergeo"
           }
          ],
          "scattergl": [
           {
            "marker": {
             "colorbar": {
              "outlinewidth": 0,
              "ticks": ""
             }
            },
            "type": "scattergl"
           }
          ],
          "scattermapbox": [
           {
            "marker": {
             "colorbar": {
              "outlinewidth": 0,
              "ticks": ""
             }
            },
            "type": "scattermapbox"
           }
          ],
          "scatterpolar": [
           {
            "marker": {
             "colorbar": {
              "outlinewidth": 0,
              "ticks": ""
             }
            },
            "type": "scatterpolar"
           }
          ],
          "scatterpolargl": [
           {
            "marker": {
             "colorbar": {
              "outlinewidth": 0,
              "ticks": ""
             }
            },
            "type": "scatterpolargl"
           }
          ],
          "scatterternary": [
           {
            "marker": {
             "colorbar": {
              "outlinewidth": 0,
              "ticks": ""
             }
            },
            "type": "scatterternary"
           }
          ],
          "surface": [
           {
            "colorbar": {
             "outlinewidth": 0,
             "ticks": ""
            },
            "colorscale": [
             [
              0,
              "#0d0887"
             ],
             [
              0.1111111111111111,
              "#46039f"
             ],
             [
              0.2222222222222222,
              "#7201a8"
             ],
             [
              0.3333333333333333,
              "#9c179e"
             ],
             [
              0.4444444444444444,
              "#bd3786"
             ],
             [
              0.5555555555555556,
              "#d8576b"
             ],
             [
              0.6666666666666666,
              "#ed7953"
             ],
             [
              0.7777777777777778,
              "#fb9f3a"
             ],
             [
              0.8888888888888888,
              "#fdca26"
             ],
             [
              1,
              "#f0f921"
             ]
            ],
            "type": "surface"
           }
          ],
          "table": [
           {
            "cells": {
             "fill": {
              "color": "#EBF0F8"
             },
             "line": {
              "color": "white"
             }
            },
            "header": {
             "fill": {
              "color": "#C8D4E3"
             },
             "line": {
              "color": "white"
             }
            },
            "type": "table"
           }
          ]
         },
         "layout": {
          "annotationdefaults": {
           "arrowcolor": "#2a3f5f",
           "arrowhead": 0,
           "arrowwidth": 1
          },
          "autotypenumbers": "strict",
          "coloraxis": {
           "colorbar": {
            "outlinewidth": 0,
            "ticks": ""
           }
          },
          "colorscale": {
           "diverging": [
            [
             0,
             "#8e0152"
            ],
            [
             0.1,
             "#c51b7d"
            ],
            [
             0.2,
             "#de77ae"
            ],
            [
             0.3,
             "#f1b6da"
            ],
            [
             0.4,
             "#fde0ef"
            ],
            [
             0.5,
             "#f7f7f7"
            ],
            [
             0.6,
             "#e6f5d0"
            ],
            [
             0.7,
             "#b8e186"
            ],
            [
             0.8,
             "#7fbc41"
            ],
            [
             0.9,
             "#4d9221"
            ],
            [
             1,
             "#276419"
            ]
           ],
           "sequential": [
            [
             0,
             "#0d0887"
            ],
            [
             0.1111111111111111,
             "#46039f"
            ],
            [
             0.2222222222222222,
             "#7201a8"
            ],
            [
             0.3333333333333333,
             "#9c179e"
            ],
            [
             0.4444444444444444,
             "#bd3786"
            ],
            [
             0.5555555555555556,
             "#d8576b"
            ],
            [
             0.6666666666666666,
             "#ed7953"
            ],
            [
             0.7777777777777778,
             "#fb9f3a"
            ],
            [
             0.8888888888888888,
             "#fdca26"
            ],
            [
             1,
             "#f0f921"
            ]
           ],
           "sequentialminus": [
            [
             0,
             "#0d0887"
            ],
            [
             0.1111111111111111,
             "#46039f"
            ],
            [
             0.2222222222222222,
             "#7201a8"
            ],
            [
             0.3333333333333333,
             "#9c179e"
            ],
            [
             0.4444444444444444,
             "#bd3786"
            ],
            [
             0.5555555555555556,
             "#d8576b"
            ],
            [
             0.6666666666666666,
             "#ed7953"
            ],
            [
             0.7777777777777778,
             "#fb9f3a"
            ],
            [
             0.8888888888888888,
             "#fdca26"
            ],
            [
             1,
             "#f0f921"
            ]
           ]
          },
          "colorway": [
           "#636efa",
           "#EF553B",
           "#00cc96",
           "#ab63fa",
           "#FFA15A",
           "#19d3f3",
           "#FF6692",
           "#B6E880",
           "#FF97FF",
           "#FECB52"
          ],
          "font": {
           "color": "#2a3f5f"
          },
          "geo": {
           "bgcolor": "white",
           "lakecolor": "white",
           "landcolor": "#E5ECF6",
           "showlakes": true,
           "showland": true,
           "subunitcolor": "white"
          },
          "hoverlabel": {
           "align": "left"
          },
          "hovermode": "closest",
          "mapbox": {
           "style": "light"
          },
          "paper_bgcolor": "white",
          "plot_bgcolor": "#E5ECF6",
          "polar": {
           "angularaxis": {
            "gridcolor": "white",
            "linecolor": "white",
            "ticks": ""
           },
           "bgcolor": "#E5ECF6",
           "radialaxis": {
            "gridcolor": "white",
            "linecolor": "white",
            "ticks": ""
           }
          },
          "scene": {
           "xaxis": {
            "backgroundcolor": "#E5ECF6",
            "gridcolor": "white",
            "gridwidth": 2,
            "linecolor": "white",
            "showbackground": true,
            "ticks": "",
            "zerolinecolor": "white"
           },
           "yaxis": {
            "backgroundcolor": "#E5ECF6",
            "gridcolor": "white",
            "gridwidth": 2,
            "linecolor": "white",
            "showbackground": true,
            "ticks": "",
            "zerolinecolor": "white"
           },
           "zaxis": {
            "backgroundcolor": "#E5ECF6",
            "gridcolor": "white",
            "gridwidth": 2,
            "linecolor": "white",
            "showbackground": true,
            "ticks": "",
            "zerolinecolor": "white"
           }
          },
          "shapedefaults": {
           "line": {
            "color": "#2a3f5f"
           }
          },
          "ternary": {
           "aaxis": {
            "gridcolor": "white",
            "linecolor": "white",
            "ticks": ""
           },
           "baxis": {
            "gridcolor": "white",
            "linecolor": "white",
            "ticks": ""
           },
           "bgcolor": "#E5ECF6",
           "caxis": {
            "gridcolor": "white",
            "linecolor": "white",
            "ticks": ""
           }
          },
          "title": {
           "x": 0.05
          },
          "xaxis": {
           "automargin": true,
           "gridcolor": "white",
           "linecolor": "white",
           "ticks": "",
           "title": {
            "standoff": 15
           },
           "zerolinecolor": "white",
           "zerolinewidth": 2
          },
          "yaxis": {
           "automargin": true,
           "gridcolor": "white",
           "linecolor": "white",
           "ticks": "",
           "title": {
            "standoff": 15
           },
           "zerolinecolor": "white",
           "zerolinewidth": 2
          }
         }
        },
        "title": {
         "text": "富士宮焼きそばマップ"
        }
       }
      }
     },
     "metadata": {}
    }
   ],
   "metadata": {
    "scrolled": false,
    "slideshow": {
     "slide_type": "slide"
    }
   }
  },
  {
   "cell_type": "markdown",
   "source": [
    "もうちょっときれいにしよう\r\n",
    "\r\n",
    "- ラベルにお店情報が出せるようにする\r\n"
   ],
   "metadata": {}
  },
  {
   "cell_type": "code",
   "execution_count": null,
   "source": [],
   "outputs": [],
   "metadata": {}
  },
  {
   "cell_type": "markdown",
   "source": [
    "ここまでのまとめ\n",
    "\n",
    "- pandas.read_table便利\n",
    "- 富士宮焼きそばが食べられるお店は中心外以外でもあるが、車がないと行くのが難しい\n",
    "- mapboxでプロットしたはいいものの、どうやってスマホとかで見ようか悩む"
   ],
   "metadata": {
    "slideshow": {
     "slide_type": "slide"
    }
   }
  },
  {
   "cell_type": "code",
   "execution_count": null,
   "source": [
    "スマホで見る => Googleマップに載せたい\r\n",
    "\r\n"
   ],
   "outputs": [],
   "metadata": {}
  }
 ],
 "metadata": {
  "celltoolbar": "スライドショー",
  "kernelspec": {
   "name": "python3",
   "display_name": "Python 3.9.6 64-bit ('.venv': venv)"
  },
  "language_info": {
   "codemirror_mode": {
    "name": "ipython",
    "version": 3
   },
   "file_extension": ".py",
   "mimetype": "text/x-python",
   "name": "python",
   "nbconvert_exporter": "python",
   "pygments_lexer": "ipython3",
   "version": "3.9.6"
  },
  "interpreter": {
   "hash": "b020d3dfe707a4c23211e2731bfe302ee404251b55b692481bf317c920ca18c0"
  }
 },
 "nbformat": 4,
 "nbformat_minor": 5
}