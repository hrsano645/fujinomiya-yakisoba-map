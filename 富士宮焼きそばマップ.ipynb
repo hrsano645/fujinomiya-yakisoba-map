{
 "cells": [
  {
   "cell_type": "markdown",
   "source": [
    "### 富士宮焼きそばを食べ歩きしたいのでマップを作った話\n",
    "\n",
    "Python駿河 / Unagi.py 2021/08月\n",
    "\n",
    "Hiroshi Sano"
   ],
   "metadata": {}
  },
  {
   "cell_type": "markdown",
   "source": [
    "※なおこのスライドはJupyter + RISEで作成したのでどなたでも動作可能です\n",
    "\n",
    "- Google Colabも必要なパッケージを入れればいけるはず\n",
    "- Plotly+MapBoxを使ったので、Mapboxアカウント作成、API利用登録=>トークンが必要になります\n",
    "  - .envファイルに`MAPBOX_TOKEN=[token]`を入れてください\n"
   ],
   "metadata": {}
  },
  {
   "cell_type": "markdown",
   "source": [
    "## お前誰よ\n",
    "\n",
    "- 佐野浩士（Hiroshi Sano）[@hrs_sano645](https://twitter.com/hrs_sano645) 🏠:静岡県の富士市🗻\n",
    "- Job💼\n",
    "  - [佐野設計事務所🚗⚙️📏🖊️](https://sano-design.info)\n",
    "    - 自動車系機械の3D設計事務所 ソフトウェアエンジニア 他いろいろ\n",
    "  - 米農家🌾\n",
    "- Community🧑‍💻\n",
    "  - 🐍: Python駿河, PyCon mini Shizuokaスタッフ\n",
    "  - 🏙💻: Code for ふじのくに\n"
   ],
   "metadata": {}
  },
  {
   "cell_type": "markdown",
   "source": [
    "### みなさんは富士宮焼きそば知ってますよね？\n"
   ],
   "metadata": {}
  },
  {
   "cell_type": "markdown",
   "source": [],
   "metadata": {}
  },
  {
   "cell_type": "markdown",
   "source": [
    "実演していきます"
   ],
   "metadata": {}
  },
  {
   "cell_type": "code",
   "execution_count": 1,
   "source": [
    "import json\n",
    "import os\n",
    "import random\n",
    "import time\n",
    "import urllib.parse\n",
    "\n",
    "import pandas\n",
    "import plotly.express as px\n",
    "import requests\n",
    "from dotenv import load_dotenv"
   ],
   "outputs": [],
   "metadata": {
    "slideshow": {
     "slide_type": "slide"
    }
   }
  },
  {
   "cell_type": "code",
   "execution_count": 2,
   "source": [
    "# トークン読み込み\n",
    "# .envにMAPBOX_TOKENを入れてください。\n",
    "load_dotenv()\n",
    "mapbox_token = os.environ[\"MAPBOX_TOKEN\"]"
   ],
   "outputs": [],
   "metadata": {}
  },
  {
   "cell_type": "code",
   "execution_count": 3,
   "source": [
    "# 焼きそばのリストをとってくる\n",
    "# http://www.umya-yakisoba.com/contents/taberu/\n",
    "\n",
    "yakisoba_dfs = pandas.read_html(\"http://www.umya-yakisoba.com/contents/taberu/\")\n",
    "print(len(yakisoba_dfs))"
   ],
   "outputs": [
    {
     "output_type": "stream",
     "name": "stdout",
     "text": [
      "5\n"
     ]
    }
   ],
   "metadata": {
    "scrolled": false,
    "slideshow": {
     "slide_type": "slide"
    }
   }
  },
  {
   "cell_type": "code",
   "execution_count": 4,
   "source": [
    "# 全体を統合して前処理\n",
    "\n",
    "yakisoba_all = pandas.concat(yakisoba_dfs[2:]).rename(columns={\n",
    "    \"店　名\":\"店名\",\n",
    "    \"住　所\":\"住所\",\n",
    "    \"電話番号（0544）\": \"電話番号\",\n",
    "    \"料 金\":\"料金\",\n",
    "    \"休 日\":\"休日\",\n",
    "    \"焼き方\":\"焼き方:店\",\n",
    "    \"焼き方.1\":\"焼き方:客\"\n",
    "})\n",
    "# 必要ない列を除去\n",
    "yakisoba_all = yakisoba_all.drop(columns=[\"番号\", \"地図\"])\n",
    "# 住所がNaNなものを除去\n",
    "yakisoba_all = yakisoba_all.dropna(subset = [\"住所\"])\n",
    "# 店名で重複除去\n",
    "yakisoba_all = yakisoba_all.drop_duplicates(subset=[\"店名\"])\n",
    "\n",
    "# 列名変更\n",
    "yakisoba_all = yakisoba_all.reset_index(drop=True)\n",
    "\n",
    "# 住所に`静岡県富士宮市`を挿入, 電話番号の市外局番をつける\n",
    "yakisoba_all[\"住所\"] = yakisoba_all[\"住所\"].apply(lambda x: f\"静岡県富士宮市{x}\")\n",
    "yakisoba_all[\"電話番号\"] = yakisoba_all[\"電話番号\"].apply(lambda x: f\"0544-{x}\")\n"
   ],
   "outputs": [],
   "metadata": {}
  },
  {
   "cell_type": "code",
   "execution_count": 5,
   "source": [
    "yakisoba_all"
   ],
   "outputs": [
    {
     "output_type": "execute_result",
     "data": {
      "text/plain": [
       "            店名               住所          電話番号  \\\n",
       "0    すぎ本（お宮横丁）    静岡県富士宮市宮町4-23  0544-24-8272   \n",
       "1       お食事処岩市   静岡県富士宮市大宮町8-18  0544-27-7153   \n",
       "2          ままん   静岡県富士宮市大宮町5-17  0544-29-6288   \n",
       "3       みっちゃん家   静岡県富士宮市宝町11-24  0544-27-5305   \n",
       "4         わびすけ    静岡県富士宮市野中町806  0544-23-8578   \n",
       "..         ...              ...           ...   \n",
       "147         大勝   静岡県富士宮市淀師136-8  0544-27-3968   \n",
       "148     うるおいてい   静岡県富士宮市淀師415-2  0544-24-7155   \n",
       "149   お好み食堂 伊東   静岡県富士宮市淀師468-2  0544-27-6494   \n",
       "150        しまい  静岡県富士宮市淀師583-20  0544-22-2767   \n",
       "151       ひまわり    静岡県富士宮市若の宮町32  0544-26-3279   \n",
       "\n",
       "                         営業時間（休憩時間含）          休日     受入人数 駐車場 焼き方:店 焼き方:客  \\\n",
       "0                        10:30-16:00         火曜日     お宮横丁   無     ○   NaN   \n",
       "1                        11:00-20:00         水曜日  28＋座敷7間   2     ○   NaN   \n",
       "2             11:00-14:0018:00-22:00       水・木曜日       26   無     ○   NaN   \n",
       "3               11:00-15:00(LO14:30)  水曜日第１・３日曜日   8＋座敷2間   5     ○   NaN   \n",
       "4    11:30-14:0014:30-22:00(LO21:00)         水曜日       54  25     ○   NaN   \n",
       "..                               ...         ...      ...  ..   ...   ...   \n",
       "147                      10:00－20:00         月曜日       25   7     ○   NaN   \n",
       "148                      11:30－14:00         月曜日       50  15     ○     ○   \n",
       "149                      10:30－20:00         月曜、       50  20     ○   NaN   \n",
       "150                      12:00－22:00         日曜日       15   8     ○   NaN   \n",
       "151                      11:00－22:00         火曜日       10   3     ○   NaN   \n",
       "\n",
       "           料金  \n",
       "0    300～600円  \n",
       "1    600-780円  \n",
       "2        600円  \n",
       "3    350-600円  \n",
       "4    620-980円  \n",
       "..        ...  \n",
       "147  450～700円  \n",
       "148  350～800円  \n",
       "149  350～600円  \n",
       "150  350～550円  \n",
       "151  400～650円  \n",
       "\n",
       "[152 rows x 10 columns]"
      ],
      "text/html": [
       "<div>\n",
       "<style scoped>\n",
       "    .dataframe tbody tr th:only-of-type {\n",
       "        vertical-align: middle;\n",
       "    }\n",
       "\n",
       "    .dataframe tbody tr th {\n",
       "        vertical-align: top;\n",
       "    }\n",
       "\n",
       "    .dataframe thead th {\n",
       "        text-align: right;\n",
       "    }\n",
       "</style>\n",
       "<table border=\"1\" class=\"dataframe\">\n",
       "  <thead>\n",
       "    <tr style=\"text-align: right;\">\n",
       "      <th></th>\n",
       "      <th>店名</th>\n",
       "      <th>住所</th>\n",
       "      <th>電話番号</th>\n",
       "      <th>営業時間（休憩時間含）</th>\n",
       "      <th>休日</th>\n",
       "      <th>受入人数</th>\n",
       "      <th>駐車場</th>\n",
       "      <th>焼き方:店</th>\n",
       "      <th>焼き方:客</th>\n",
       "      <th>料金</th>\n",
       "    </tr>\n",
       "  </thead>\n",
       "  <tbody>\n",
       "    <tr>\n",
       "      <th>0</th>\n",
       "      <td>すぎ本（お宮横丁）</td>\n",
       "      <td>静岡県富士宮市宮町4-23</td>\n",
       "      <td>0544-24-8272</td>\n",
       "      <td>10:30-16:00</td>\n",
       "      <td>火曜日</td>\n",
       "      <td>お宮横丁</td>\n",
       "      <td>無</td>\n",
       "      <td>○</td>\n",
       "      <td>NaN</td>\n",
       "      <td>300～600円</td>\n",
       "    </tr>\n",
       "    <tr>\n",
       "      <th>1</th>\n",
       "      <td>お食事処岩市</td>\n",
       "      <td>静岡県富士宮市大宮町8-18</td>\n",
       "      <td>0544-27-7153</td>\n",
       "      <td>11:00-20:00</td>\n",
       "      <td>水曜日</td>\n",
       "      <td>28＋座敷7間</td>\n",
       "      <td>2</td>\n",
       "      <td>○</td>\n",
       "      <td>NaN</td>\n",
       "      <td>600-780円</td>\n",
       "    </tr>\n",
       "    <tr>\n",
       "      <th>2</th>\n",
       "      <td>ままん</td>\n",
       "      <td>静岡県富士宮市大宮町5-17</td>\n",
       "      <td>0544-29-6288</td>\n",
       "      <td>11:00-14:0018:00-22:00</td>\n",
       "      <td>水・木曜日</td>\n",
       "      <td>26</td>\n",
       "      <td>無</td>\n",
       "      <td>○</td>\n",
       "      <td>NaN</td>\n",
       "      <td>600円</td>\n",
       "    </tr>\n",
       "    <tr>\n",
       "      <th>3</th>\n",
       "      <td>みっちゃん家</td>\n",
       "      <td>静岡県富士宮市宝町11-24</td>\n",
       "      <td>0544-27-5305</td>\n",
       "      <td>11:00-15:00(LO14:30)</td>\n",
       "      <td>水曜日第１・３日曜日</td>\n",
       "      <td>8＋座敷2間</td>\n",
       "      <td>5</td>\n",
       "      <td>○</td>\n",
       "      <td>NaN</td>\n",
       "      <td>350-600円</td>\n",
       "    </tr>\n",
       "    <tr>\n",
       "      <th>4</th>\n",
       "      <td>わびすけ</td>\n",
       "      <td>静岡県富士宮市野中町806</td>\n",
       "      <td>0544-23-8578</td>\n",
       "      <td>11:30-14:0014:30-22:00(LO21:00)</td>\n",
       "      <td>水曜日</td>\n",
       "      <td>54</td>\n",
       "      <td>25</td>\n",
       "      <td>○</td>\n",
       "      <td>NaN</td>\n",
       "      <td>620-980円</td>\n",
       "    </tr>\n",
       "    <tr>\n",
       "      <th>...</th>\n",
       "      <td>...</td>\n",
       "      <td>...</td>\n",
       "      <td>...</td>\n",
       "      <td>...</td>\n",
       "      <td>...</td>\n",
       "      <td>...</td>\n",
       "      <td>...</td>\n",
       "      <td>...</td>\n",
       "      <td>...</td>\n",
       "      <td>...</td>\n",
       "    </tr>\n",
       "    <tr>\n",
       "      <th>147</th>\n",
       "      <td>大勝</td>\n",
       "      <td>静岡県富士宮市淀師136-8</td>\n",
       "      <td>0544-27-3968</td>\n",
       "      <td>10:00－20:00</td>\n",
       "      <td>月曜日</td>\n",
       "      <td>25</td>\n",
       "      <td>7</td>\n",
       "      <td>○</td>\n",
       "      <td>NaN</td>\n",
       "      <td>450～700円</td>\n",
       "    </tr>\n",
       "    <tr>\n",
       "      <th>148</th>\n",
       "      <td>うるおいてい</td>\n",
       "      <td>静岡県富士宮市淀師415-2</td>\n",
       "      <td>0544-24-7155</td>\n",
       "      <td>11:30－14:00</td>\n",
       "      <td>月曜日</td>\n",
       "      <td>50</td>\n",
       "      <td>15</td>\n",
       "      <td>○</td>\n",
       "      <td>○</td>\n",
       "      <td>350～800円</td>\n",
       "    </tr>\n",
       "    <tr>\n",
       "      <th>149</th>\n",
       "      <td>お好み食堂 伊東</td>\n",
       "      <td>静岡県富士宮市淀師468-2</td>\n",
       "      <td>0544-27-6494</td>\n",
       "      <td>10:30－20:00</td>\n",
       "      <td>月曜、</td>\n",
       "      <td>50</td>\n",
       "      <td>20</td>\n",
       "      <td>○</td>\n",
       "      <td>NaN</td>\n",
       "      <td>350～600円</td>\n",
       "    </tr>\n",
       "    <tr>\n",
       "      <th>150</th>\n",
       "      <td>しまい</td>\n",
       "      <td>静岡県富士宮市淀師583-20</td>\n",
       "      <td>0544-22-2767</td>\n",
       "      <td>12:00－22:00</td>\n",
       "      <td>日曜日</td>\n",
       "      <td>15</td>\n",
       "      <td>8</td>\n",
       "      <td>○</td>\n",
       "      <td>NaN</td>\n",
       "      <td>350～550円</td>\n",
       "    </tr>\n",
       "    <tr>\n",
       "      <th>151</th>\n",
       "      <td>ひまわり</td>\n",
       "      <td>静岡県富士宮市若の宮町32</td>\n",
       "      <td>0544-26-3279</td>\n",
       "      <td>11:00－22:00</td>\n",
       "      <td>火曜日</td>\n",
       "      <td>10</td>\n",
       "      <td>3</td>\n",
       "      <td>○</td>\n",
       "      <td>NaN</td>\n",
       "      <td>400～650円</td>\n",
       "    </tr>\n",
       "  </tbody>\n",
       "</table>\n",
       "<p>152 rows × 10 columns</p>\n",
       "</div>"
      ]
     },
     "metadata": {},
     "execution_count": 5
    }
   ],
   "metadata": {
    "scrolled": true,
    "slideshow": {
     "slide_type": "slide"
    }
   }
  },
  {
   "cell_type": "code",
   "execution_count": 6,
   "source": [
    "yakisoba_all.to_csv(\"yakisoba_all_tmp.csv\",encoding=\"utf-8\")"
   ],
   "outputs": [],
   "metadata": {}
  },
  {
   "cell_type": "code",
   "execution_count": 7,
   "source": [
    "def get_lon_lat(address: str) :\n",
    "    \"\"\"\n",
    "        国土地理院のAPIを使って、\n",
    "        負荷防止のために、ランダムで問い合わせを行うようにしてます。\n",
    "        \n",
    "        returnは(lat, lon) を返す\n",
    "                \n",
    "        ref: https://memo.appri.me/programming/gsi-geocoding-api#%E3%82%B8%E3%82%AA%E3%82%B3%E3%83%BC%E3%83%87%E3%82%A3%E3%83%B3%E3%82%B0API\n",
    "    \"\"\"\n",
    "\n",
    "    # 住所文字をURLエンコード\n",
    "    encoding_address = urllib.parse.quote(address)\n",
    "\n",
    "    req_api = requests.get(f\"https://msearch.gsi.go.jp/address-search/AddressSearch?q={encoding_address}\")\n",
    "\n",
    "    # 結果をprint\n",
    "    print(f\"search:{address} -> {req_api.text}\")\n",
    "    \n",
    "    # GeoJsonからlon、latをgetする\n",
    "    req_json = json.loads(req_api.text)\n",
    "    coordinates = req_json[0][\"geometry\"][\"coordinates\"]\n",
    "\n",
    "    # 問い合わせの時間をランダムでずらす\n",
    "    time.sleep(random.randint(2,5))\n",
    "\n",
    "    return (coordinates[1], coordinates[0])"
   ],
   "outputs": [],
   "metadata": {
    "slideshow": {
     "slide_type": "slide"
    }
   }
  },
  {
   "cell_type": "code",
   "execution_count": 8,
   "source": [
    "# このコードは実行すると大体600秒ぐらいかかるので、LT当日は行わないように\n",
    "\n",
    "# pandasにlon,latを入れる\n",
    "\n",
    "# copy_yakisoba_all = yakisoba_all.copy()\n",
    "# yakisoba_all[\"lon_lat\"] = copy_yakisoba_all[\"住所\"].map(lambda x: get_lon_lat(x))\n",
    "# copy_yakisoba_all = yakisoba_all.copy()\n",
    "# yakisoba_all[\"lon\"] = copy_yakisoba_all[\"lon_lat\"].map(lambda x: x[1])\n",
    "# yakisoba_all[\"lat\"] = copy_yakisoba_all[\"lon_lat\"].map(lambda x: x[0])\n",
    "\n",
    "# INFO:2021-08-26 copyを使うのがやや微妙感あるけど、警告出てたのでそうしました"
   ],
   "outputs": [],
   "metadata": {
    "scrolled": true,
    "slideshow": {
     "slide_type": "slide"
    }
   }
  },
  {
   "cell_type": "code",
   "execution_count": 9,
   "source": [
    "# 上のセルの実行結果を保存しておいて\n",
    "# yakisoba_all.to_csv(\"yakisoba_all_loclat.csv\",encoding=\"utf-8\")\n",
    "# yakisoba_all.to_csv(\"yakisoba_all_loclat_sjis.csv\",encoding=\"cp932\")\n",
    "\n",
    "# すでにlon、lat入りのcsvファイルで読み込みます\n",
    "\n",
    "yakisoba_all = pandas.read_csv(\"yakisoba_all_loclat.csv\")"
   ],
   "outputs": [],
   "metadata": {}
  },
  {
   "cell_type": "code",
   "execution_count": 11,
   "source": [
    "# Plotly + scatter mapboxで地図にポイント\n",
    "px.set_mapbox_access_token(mapbox_token)\n",
    "\n",
    "fig = px.scatter_mapbox(yakisoba_all, lat=\"lat\", lon=\"lon\", hover_name=\"店名\",\n",
    "                zoom=9, title=\"富士宮焼きそばマップ\")\n",
    "fig.show()"
   ],
   "outputs": [
    {
     "output_type": "display_data",
     "data": {
      "application/vnd.plotly.v1+json": {
       "config": {
        "plotlyServerURL": "https://plot.ly"
       },
       "data": [
        {
         "hovertemplate": "<b>%{hovertext}</b><br><br>lat=%{lat}<br>lon=%{lon}<extra></extra>",
         "hovertext": [
          "すぎ本（お宮横丁）",
          "お食事処岩市",
          "ままん",
          "みっちゃん家",
          "わびすけ",
          "ろばた焼一心",
          "おざわ酒店",
          "安曇野",
          "むすび屋",
          "つかさ",
          "かいじ",
          "豊延",
          "とおり道",
          "あおい",
          "ペイジ",
          "ふじの食堂",
          "富士山にこにこ長屋",
          "ふくじん",
          "ふくいや",
          "平石屋",
          "夢千代",
          "あご山",
          "ふくろう",
          "丸太",
          "まかいの牧場内 ぼんぼり",
          "おのちゃん",
          "泉花",
          "祭りや",
          "お好み焼 いち川",
          "パピ",
          "天神橋",
          "むめさん",
          "お食事処 とし",
          "五平茶屋",
          "白扇",
          "お好焼 まんぷく",
          "あっぷる",
          "清ふじ",
          "ふじた食堂",
          "お好み焼 京",
          "いじわるまま",
          "居酒屋 きっこ",
          "いつものところ",
          "小料理屋 あい",
          "金太郎",
          "長谷川商店",
          "なごみや",
          "よない",
          "なみ",
          "お好み焼きハウス 名月",
          "千貫くいどころ",
          "焼そば・お好み うめづ",
          "鉄板焼 さいごう",
          "鉄板焼 ちゃん バイパス店",
          "テン＆テン",
          "浦田商店",
          "ぼて福",
          "おたふく",
          "ますみ",
          "焼そば はうすぴ－す",
          "喫茶 暫",
          "お好み焼 内藤",
          "ぱな（コヌマフード）",
          "すずきお好み",
          "ゆぐち",
          "めぐみ",
          "ふくや",
          "ＶＩＶＡ せいけふーど",
          "よしの",
          "ラーメン朝日",
          "おこのみハウス 平ゆう",
          "渡辺商店",
          "チャンティック",
          "ばんばん",
          "なかど",
          "こんどう",
          "たぬき",
          "ひこの",
          "稲葉商店",
          "たこ膳",
          "パン工場富士宮店",
          "一休",
          "アンデス",
          "瓔珞(ようらく)",
          "ハーベスト",
          "つぼ半",
          "ゴールド",
          "さの食堂",
          "かわにし",
          "ぴいぷる水上",
          "姫たこ",
          "ふみ",
          "マルコウ",
          "おじまや",
          "きぶね亭",
          "遊味亭",
          "やまだ食堂",
          "味菜",
          "こもれび",
          "お好み焼　夢",
          "虹屋ミミ",
          "炎や",
          "キッチントトロ",
          "鉄板焼 ちゃん 駅前店",
          "ぐるっぺ",
          "じねん坊",
          "鉄板焼 すぎ本",
          "うたちゃん",
          "いろは亭",
          "杉山",
          "味わい処　小粋",
          "お好焼 あき",
          "虹屋",
          "ホロタチェーンポテト野中店",
          "野武士",
          "わたなべ お好焼",
          "鉄板お好焼 すぎやま",
          "さくらんぼ",
          "プリンス",
          "お好み焼 金森",
          "お好み焼き ひかり",
          "喫茶ヴィーナス",
          "お好み焼 ふじ",
          "こまつや",
          "ホロタチェーンベスト電器富士宮店",
          "穂波屋",
          "やまちゃん",
          "オレンジペコ",
          "喫茶軽食 ミミ",
          "みます家",
          "ここずらよ",
          "シーズ あるばとろす",
          "富士宮やきそば学会アンテナショップ",
          "すぎ本（お宮横丁内）",
          "むすび屋（お宮横丁内）",
          "宮膳つたや",
          "富士巻食堂",
          "ソバージュ",
          "ミマスヤ２",
          "大阪屋",
          "あさ家",
          "前島",
          "お好み焼 くぼた",
          "みち草",
          "若林たばこ店",
          "焼そばハウス",
          "ホロタチェーンポテト淀川店",
          "大勝",
          "うるおいてい",
          "お好み食堂 伊東",
          "しまい",
          "ひまわり"
         ],
         "lat": [
          35.224991,
          35.224586,
          35.22504,
          35.229198,
          35.216354,
          35.231007,
          35.236752,
          35.235474,
          35.224991,
          35.325951,
          35.306538,
          35.262058,
          35.215176,
          35.243034,
          35.219212,
          35.251904,
          35.267826,
          35.223274,
          35.218826,
          35.310333,
          35.223877,
          35.215862,
          35.249496,
          35.25161,
          35.335857,
          35.243511,
          35.230549,
          35.216782,
          35.22998,
          35.325951,
          35.315372,
          35.315163,
          35.310932,
          35.339848,
          35.276947,
          35.28524,
          35.275265,
          35.315876,
          35.284824,
          35.267948,
          35.210094,
          35.217445,
          35.226002,
          35.222393,
          35.221657,
          35.22324,
          35.215927,
          35.274578,
          35.271427,
          35.212364,
          35.216896,
          35.247807,
          35.258442,
          35.244896,
          35.218765,
          35.194756,
          35.227699,
          35.249924,
          35.208862,
          35.24213,
          35.213394,
          35.248116,
          35.251904,
          35.250072,
          35.257111,
          35.244041,
          35.247795,
          35.247578,
          35.247578,
          35.252129,
          35.26746,
          35.22377,
          35.257812,
          35.242939,
          35.242371,
          35.226719,
          35.229164,
          35.231812,
          35.23444,
          35.220619,
          35.220619,
          35.222866,
          35.218872,
          35.224491,
          35.224838,
          35.224281,
          35.223713,
          35.223408,
          35.2229,
          35.222416,
          35.236629,
          35.226276,
          35.227398,
          35.22897,
          35.228996,
          35.232708,
          35.228241,
          35.228252,
          35.229198,
          35.229645,
          35.223236,
          35.222477,
          35.223,
          35.224365,
          35.219872,
          35.225384,
          35.225132,
          35.227596,
          35.225616,
          35.212021,
          35.216881,
          35.216171,
          35.215603,
          35.21664,
          35.231087,
          35.229614,
          35.222298,
          35.231796,
          35.233765,
          35.233551,
          35.232937,
          35.237492,
          35.235241,
          35.23225,
          35.232735,
          35.234489,
          35.240936,
          35.238873,
          35.238983,
          35.238983,
          35.225037,
          35.225143,
          35.224991,
          35.224991,
          35.224991,
          35.223232,
          35.223408,
          35.225716,
          35.227436,
          35.227276,
          35.226536,
          35.225243,
          35.227486,
          35.229958,
          35.231846,
          35.231209,
          35.233841,
          35.236637,
          35.236973,
          35.240753,
          35.238823,
          35.231644
         ],
         "legendgroup": "",
         "lon": [
          138.610199,
          138.611572,
          138.611862,
          138.604813,
          138.606567,
          138.624725,
          138.616074,
          138.623306,
          138.610199,
          138.605484,
          138.595825,
          138.577682,
          138.626831,
          138.609512,
          138.615936,
          138.624863,
          138.634811,
          138.616745,
          138.611862,
          138.590286,
          138.618988,
          138.586578,
          138.646347,
          138.637741,
          138.57785,
          138.629059,
          138.640533,
          138.592056,
          138.591766,
          138.605484,
          138.594162,
          138.591568,
          138.600143,
          138.59816,
          138.584229,
          138.584625,
          138.602325,
          138.641251,
          138.604279,
          138.608231,
          138.635956,
          138.631332,
          138.629715,
          138.630646,
          138.636673,
          138.64241,
          138.630173,
          138.576508,
          138.577057,
          138.658737,
          138.664032,
          138.595627,
          138.614319,
          138.618622,
          138.629379,
          138.591995,
          138.625565,
          138.637909,
          138.616898,
          138.621597,
          138.62999,
          138.62085,
          138.624863,
          138.622498,
          138.622131,
          138.611069,
          138.609802,
          138.611008,
          138.611008,
          138.607574,
          138.661728,
          138.625809,
          138.63179,
          138.607727,
          138.600418,
          138.619888,
          138.621933,
          138.604401,
          138.604416,
          138.61351,
          138.61351,
          138.601242,
          138.596481,
          138.611481,
          138.612442,
          138.613388,
          138.61264,
          138.610474,
          138.612564,
          138.613373,
          138.613358,
          138.6026,
          138.601089,
          138.600266,
          138.60054,
          138.618484,
          138.608841,
          138.608322,
          138.604813,
          138.603668,
          138.614731,
          138.614609,
          138.614822,
          138.615387,
          138.617416,
          138.606461,
          138.605453,
          138.603821,
          138.603775,
          138.605728,
          138.610397,
          138.609177,
          138.610641,
          138.608459,
          138.62326,
          138.623596,
          138.616241,
          138.607864,
          138.611404,
          138.612015,
          138.609497,
          138.617569,
          138.623505,
          138.62468,
          138.622314,
          138.598312,
          138.622894,
          138.613663,
          138.616913,
          138.616913,
          138.610535,
          138.610214,
          138.610199,
          138.610199,
          138.610199,
          138.609253,
          138.608627,
          138.616821,
          138.616638,
          138.615356,
          138.615402,
          138.619568,
          138.623932,
          138.613129,
          138.601364,
          138.599533,
          138.599899,
          138.600082,
          138.596466,
          138.596283,
          138.599899,
          138.615768
         ],
         "marker": {
          "color": "#636efa"
         },
         "mode": "markers",
         "name": "",
         "showlegend": false,
         "subplot": "mapbox",
         "type": "scattermapbox"
        }
       ],
       "layout": {
        "legend": {
         "tracegroupgap": 0
        },
        "mapbox": {
         "accesstoken": "pk.eyJ1IjoiaHJzYW5vNjQ1IiwiYSI6ImNrcnJxMjV3cDBtcXkyb285aDFxOTloN2oifQ.Y3Nedqa_T6K6Exk47VRTHQ",
         "center": {
          "lat": 35.23850298684211,
          "lon": 138.61284573026316
         },
         "domain": {
          "x": [
           0,
           1
          ],
          "y": [
           0,
           1
          ]
         },
         "zoom": 9
        },
        "template": {
         "data": {
          "bar": [
           {
            "error_x": {
             "color": "#2a3f5f"
            },
            "error_y": {
             "color": "#2a3f5f"
            },
            "marker": {
             "line": {
              "color": "#E5ECF6",
              "width": 0.5
             },
             "pattern": {
              "fillmode": "overlay",
              "size": 10,
              "solidity": 0.2
             }
            },
            "type": "bar"
           }
          ],
          "barpolar": [
           {
            "marker": {
             "line": {
              "color": "#E5ECF6",
              "width": 0.5
             },
             "pattern": {
              "fillmode": "overlay",
              "size": 10,
              "solidity": 0.2
             }
            },
            "type": "barpolar"
           }
          ],
          "carpet": [
           {
            "aaxis": {
             "endlinecolor": "#2a3f5f",
             "gridcolor": "white",
             "linecolor": "white",
             "minorgridcolor": "white",
             "startlinecolor": "#2a3f5f"
            },
            "baxis": {
             "endlinecolor": "#2a3f5f",
             "gridcolor": "white",
             "linecolor": "white",
             "minorgridcolor": "white",
             "startlinecolor": "#2a3f5f"
            },
            "type": "carpet"
           }
          ],
          "choropleth": [
           {
            "colorbar": {
             "outlinewidth": 0,
             "ticks": ""
            },
            "type": "choropleth"
           }
          ],
          "contour": [
           {
            "colorbar": {
             "outlinewidth": 0,
             "ticks": ""
            },
            "colorscale": [
             [
              0,
              "#0d0887"
             ],
             [
              0.1111111111111111,
              "#46039f"
             ],
             [
              0.2222222222222222,
              "#7201a8"
             ],
             [
              0.3333333333333333,
              "#9c179e"
             ],
             [
              0.4444444444444444,
              "#bd3786"
             ],
             [
              0.5555555555555556,
              "#d8576b"
             ],
             [
              0.6666666666666666,
              "#ed7953"
             ],
             [
              0.7777777777777778,
              "#fb9f3a"
             ],
             [
              0.8888888888888888,
              "#fdca26"
             ],
             [
              1,
              "#f0f921"
             ]
            ],
            "type": "contour"
           }
          ],
          "contourcarpet": [
           {
            "colorbar": {
             "outlinewidth": 0,
             "ticks": ""
            },
            "type": "contourcarpet"
           }
          ],
          "heatmap": [
           {
            "colorbar": {
             "outlinewidth": 0,
             "ticks": ""
            },
            "colorscale": [
             [
              0,
              "#0d0887"
             ],
             [
              0.1111111111111111,
              "#46039f"
             ],
             [
              0.2222222222222222,
              "#7201a8"
             ],
             [
              0.3333333333333333,
              "#9c179e"
             ],
             [
              0.4444444444444444,
              "#bd3786"
             ],
             [
              0.5555555555555556,
              "#d8576b"
             ],
             [
              0.6666666666666666,
              "#ed7953"
             ],
             [
              0.7777777777777778,
              "#fb9f3a"
             ],
             [
              0.8888888888888888,
              "#fdca26"
             ],
             [
              1,
              "#f0f921"
             ]
            ],
            "type": "heatmap"
           }
          ],
          "heatmapgl": [
           {
            "colorbar": {
             "outlinewidth": 0,
             "ticks": ""
            },
            "colorscale": [
             [
              0,
              "#0d0887"
             ],
             [
              0.1111111111111111,
              "#46039f"
             ],
             [
              0.2222222222222222,
              "#7201a8"
             ],
             [
              0.3333333333333333,
              "#9c179e"
             ],
             [
              0.4444444444444444,
              "#bd3786"
             ],
             [
              0.5555555555555556,
              "#d8576b"
             ],
             [
              0.6666666666666666,
              "#ed7953"
             ],
             [
              0.7777777777777778,
              "#fb9f3a"
             ],
             [
              0.8888888888888888,
              "#fdca26"
             ],
             [
              1,
              "#f0f921"
             ]
            ],
            "type": "heatmapgl"
           }
          ],
          "histogram": [
           {
            "marker": {
             "pattern": {
              "fillmode": "overlay",
              "size": 10,
              "solidity": 0.2
             }
            },
            "type": "histogram"
           }
          ],
          "histogram2d": [
           {
            "colorbar": {
             "outlinewidth": 0,
             "ticks": ""
            },
            "colorscale": [
             [
              0,
              "#0d0887"
             ],
             [
              0.1111111111111111,
              "#46039f"
             ],
             [
              0.2222222222222222,
              "#7201a8"
             ],
             [
              0.3333333333333333,
              "#9c179e"
             ],
             [
              0.4444444444444444,
              "#bd3786"
             ],
             [
              0.5555555555555556,
              "#d8576b"
             ],
             [
              0.6666666666666666,
              "#ed7953"
             ],
             [
              0.7777777777777778,
              "#fb9f3a"
             ],
             [
              0.8888888888888888,
              "#fdca26"
             ],
             [
              1,
              "#f0f921"
             ]
            ],
            "type": "histogram2d"
           }
          ],
          "histogram2dcontour": [
           {
            "colorbar": {
             "outlinewidth": 0,
             "ticks": ""
            },
            "colorscale": [
             [
              0,
              "#0d0887"
             ],
             [
              0.1111111111111111,
              "#46039f"
             ],
             [
              0.2222222222222222,
              "#7201a8"
             ],
             [
              0.3333333333333333,
              "#9c179e"
             ],
             [
              0.4444444444444444,
              "#bd3786"
             ],
             [
              0.5555555555555556,
              "#d8576b"
             ],
             [
              0.6666666666666666,
              "#ed7953"
             ],
             [
              0.7777777777777778,
              "#fb9f3a"
             ],
             [
              0.8888888888888888,
              "#fdca26"
             ],
             [
              1,
              "#f0f921"
             ]
            ],
            "type": "histogram2dcontour"
           }
          ],
          "mesh3d": [
           {
            "colorbar": {
             "outlinewidth": 0,
             "ticks": ""
            },
            "type": "mesh3d"
           }
          ],
          "parcoords": [
           {
            "line": {
             "colorbar": {
              "outlinewidth": 0,
              "ticks": ""
             }
            },
            "type": "parcoords"
           }
          ],
          "pie": [
           {
            "automargin": true,
            "type": "pie"
           }
          ],
          "scatter": [
           {
            "marker": {
             "colorbar": {
              "outlinewidth": 0,
              "ticks": ""
             }
            },
            "type": "scatter"
           }
          ],
          "scatter3d": [
           {
            "line": {
             "colorbar": {
              "outlinewidth": 0,
              "ticks": ""
             }
            },
            "marker": {
             "colorbar": {
              "outlinewidth": 0,
              "ticks": ""
             }
            },
            "type": "scatter3d"
           }
          ],
          "scattercarpet": [
           {
            "marker": {
             "colorbar": {
              "outlinewidth": 0,
              "ticks": ""
             }
            },
            "type": "scattercarpet"
           }
          ],
          "scattergeo": [
           {
            "marker": {
             "colorbar": {
              "outlinewidth": 0,
              "ticks": ""
             }
            },
            "type": "scattergeo"
           }
          ],
          "scattergl": [
           {
            "marker": {
             "colorbar": {
              "outlinewidth": 0,
              "ticks": ""
             }
            },
            "type": "scattergl"
           }
          ],
          "scattermapbox": [
           {
            "marker": {
             "colorbar": {
              "outlinewidth": 0,
              "ticks": ""
             }
            },
            "type": "scattermapbox"
           }
          ],
          "scatterpolar": [
           {
            "marker": {
             "colorbar": {
              "outlinewidth": 0,
              "ticks": ""
             }
            },
            "type": "scatterpolar"
           }
          ],
          "scatterpolargl": [
           {
            "marker": {
             "colorbar": {
              "outlinewidth": 0,
              "ticks": ""
             }
            },
            "type": "scatterpolargl"
           }
          ],
          "scatterternary": [
           {
            "marker": {
             "colorbar": {
              "outlinewidth": 0,
              "ticks": ""
             }
            },
            "type": "scatterternary"
           }
          ],
          "surface": [
           {
            "colorbar": {
             "outlinewidth": 0,
             "ticks": ""
            },
            "colorscale": [
             [
              0,
              "#0d0887"
             ],
             [
              0.1111111111111111,
              "#46039f"
             ],
             [
              0.2222222222222222,
              "#7201a8"
             ],
             [
              0.3333333333333333,
              "#9c179e"
             ],
             [
              0.4444444444444444,
              "#bd3786"
             ],
             [
              0.5555555555555556,
              "#d8576b"
             ],
             [
              0.6666666666666666,
              "#ed7953"
             ],
             [
              0.7777777777777778,
              "#fb9f3a"
             ],
             [
              0.8888888888888888,
              "#fdca26"
             ],
             [
              1,
              "#f0f921"
             ]
            ],
            "type": "surface"
           }
          ],
          "table": [
           {
            "cells": {
             "fill": {
              "color": "#EBF0F8"
             },
             "line": {
              "color": "white"
             }
            },
            "header": {
             "fill": {
              "color": "#C8D4E3"
             },
             "line": {
              "color": "white"
             }
            },
            "type": "table"
           }
          ]
         },
         "layout": {
          "annotationdefaults": {
           "arrowcolor": "#2a3f5f",
           "arrowhead": 0,
           "arrowwidth": 1
          },
          "autotypenumbers": "strict",
          "coloraxis": {
           "colorbar": {
            "outlinewidth": 0,
            "ticks": ""
           }
          },
          "colorscale": {
           "diverging": [
            [
             0,
             "#8e0152"
            ],
            [
             0.1,
             "#c51b7d"
            ],
            [
             0.2,
             "#de77ae"
            ],
            [
             0.3,
             "#f1b6da"
            ],
            [
             0.4,
             "#fde0ef"
            ],
            [
             0.5,
             "#f7f7f7"
            ],
            [
             0.6,
             "#e6f5d0"
            ],
            [
             0.7,
             "#b8e186"
            ],
            [
             0.8,
             "#7fbc41"
            ],
            [
             0.9,
             "#4d9221"
            ],
            [
             1,
             "#276419"
            ]
           ],
           "sequential": [
            [
             0,
             "#0d0887"
            ],
            [
             0.1111111111111111,
             "#46039f"
            ],
            [
             0.2222222222222222,
             "#7201a8"
            ],
            [
             0.3333333333333333,
             "#9c179e"
            ],
            [
             0.4444444444444444,
             "#bd3786"
            ],
            [
             0.5555555555555556,
             "#d8576b"
            ],
            [
             0.6666666666666666,
             "#ed7953"
            ],
            [
             0.7777777777777778,
             "#fb9f3a"
            ],
            [
             0.8888888888888888,
             "#fdca26"
            ],
            [
             1,
             "#f0f921"
            ]
           ],
           "sequentialminus": [
            [
             0,
             "#0d0887"
            ],
            [
             0.1111111111111111,
             "#46039f"
            ],
            [
             0.2222222222222222,
             "#7201a8"
            ],
            [
             0.3333333333333333,
             "#9c179e"
            ],
            [
             0.4444444444444444,
             "#bd3786"
            ],
            [
             0.5555555555555556,
             "#d8576b"
            ],
            [
             0.6666666666666666,
             "#ed7953"
            ],
            [
             0.7777777777777778,
             "#fb9f3a"
            ],
            [
             0.8888888888888888,
             "#fdca26"
            ],
            [
             1,
             "#f0f921"
            ]
           ]
          },
          "colorway": [
           "#636efa",
           "#EF553B",
           "#00cc96",
           "#ab63fa",
           "#FFA15A",
           "#19d3f3",
           "#FF6692",
           "#B6E880",
           "#FF97FF",
           "#FECB52"
          ],
          "font": {
           "color": "#2a3f5f"
          },
          "geo": {
           "bgcolor": "white",
           "lakecolor": "white",
           "landcolor": "#E5ECF6",
           "showlakes": true,
           "showland": true,
           "subunitcolor": "white"
          },
          "hoverlabel": {
           "align": "left"
          },
          "hovermode": "closest",
          "mapbox": {
           "style": "light"
          },
          "paper_bgcolor": "white",
          "plot_bgcolor": "#E5ECF6",
          "polar": {
           "angularaxis": {
            "gridcolor": "white",
            "linecolor": "white",
            "ticks": ""
           },
           "bgcolor": "#E5ECF6",
           "radialaxis": {
            "gridcolor": "white",
            "linecolor": "white",
            "ticks": ""
           }
          },
          "scene": {
           "xaxis": {
            "backgroundcolor": "#E5ECF6",
            "gridcolor": "white",
            "gridwidth": 2,
            "linecolor": "white",
            "showbackground": true,
            "ticks": "",
            "zerolinecolor": "white"
           },
           "yaxis": {
            "backgroundcolor": "#E5ECF6",
            "gridcolor": "white",
            "gridwidth": 2,
            "linecolor": "white",
            "showbackground": true,
            "ticks": "",
            "zerolinecolor": "white"
           },
           "zaxis": {
            "backgroundcolor": "#E5ECF6",
            "gridcolor": "white",
            "gridwidth": 2,
            "linecolor": "white",
            "showbackground": true,
            "ticks": "",
            "zerolinecolor": "white"
           }
          },
          "shapedefaults": {
           "line": {
            "color": "#2a3f5f"
           }
          },
          "ternary": {
           "aaxis": {
            "gridcolor": "white",
            "linecolor": "white",
            "ticks": ""
           },
           "baxis": {
            "gridcolor": "white",
            "linecolor": "white",
            "ticks": ""
           },
           "bgcolor": "#E5ECF6",
           "caxis": {
            "gridcolor": "white",
            "linecolor": "white",
            "ticks": ""
           }
          },
          "title": {
           "x": 0.05
          },
          "xaxis": {
           "automargin": true,
           "gridcolor": "white",
           "linecolor": "white",
           "ticks": "",
           "title": {
            "standoff": 15
           },
           "zerolinecolor": "white",
           "zerolinewidth": 2
          },
          "yaxis": {
           "automargin": true,
           "gridcolor": "white",
           "linecolor": "white",
           "ticks": "",
           "title": {
            "standoff": 15
           },
           "zerolinecolor": "white",
           "zerolinewidth": 2
          }
         }
        },
        "title": {
         "text": "富士宮焼きそばマップ"
        }
       }
      }
     },
     "metadata": {}
    }
   ],
   "metadata": {
    "scrolled": false,
    "slideshow": {
     "slide_type": "slide"
    }
   }
  },
  {
   "cell_type": "markdown",
   "source": [
    "もうちょっときれいにしよう\r\n",
    "\r\n",
    "- ラベルにお店情報が出せるようにする\r\n"
   ],
   "metadata": {}
  },
  {
   "cell_type": "code",
   "execution_count": 12,
   "source": [
    "fig = px.scatter_mapbox(yakisoba_all, lat=\"lat\", lon=\"lon\", hover_name=\"店名\",\n",
    "                hover_data=[\"住所\",\"休日\",\"駐車場\",\"料金\"],\n",
    "                zoom=9, title=\"富士宮焼きそばマップ\")\n",
    "fig.show()"
   ],
   "outputs": [
    {
     "output_type": "display_data",
     "data": {
      "application/vnd.plotly.v1+json": {
       "config": {
        "plotlyServerURL": "https://plot.ly"
       },
       "data": [
        {
         "customdata": [
          [
           "宮町4-23",
           "火曜日",
           "無",
           "300～600円"
          ],
          [
           "大宮町8-18",
           "水曜日",
           "2",
           "600-780円"
          ],
          [
           "大宮町5-17",
           "水・木曜日",
           "無",
           "600円"
          ],
          [
           "宝町11-24",
           "水曜日第１・３日曜日",
           "5",
           "350-600円"
          ],
          [
           "野中町806",
           "水曜日",
           "25",
           "620-980円"
          ],
          [
           "東阿幸地245",
           null,
           null,
           null
          ],
          [
           "ひばりが丘6",
           "火曜日",
           "2",
           "450-600円大盛り+100円"
          ],
          [
           "富士見ヶ丘628",
           null,
           null,
           null
          ],
          [
           "宮町4-23",
           "無休",
           "無",
           "500円"
          ],
          [
           "上井出276-7",
           "無休",
           "5",
           "650円"
          ],
          [
           "上井出141-1",
           "無休",
           "10",
           "400-600円"
          ],
          [
           "下条1611-1",
           "水曜日",
           "10",
           "350円大盛り+100円ﾄｯﾋﾟﾝｸﾞ+50円しぐれ+100円"
          ],
          [
           "源道寺町1295",
           null,
           null,
           null
          ],
          [
           "淀師1117-6",
           "火曜日",
           "10ﾏｲｸﾛﾊﾞｽ可",
           "450-600円大盛り+100円もやし+50円"
          ],
          [
           "錦町8-25",
           "日曜日",
           "5",
           "600円"
          ],
          [
           "万野腹新田2917",
           "月曜日",
           "8",
           "950円"
          ],
          [
           "山宮517-2",
           "火曜日",
           "30",
           "500円"
          ],
          [
           "東町14-3",
           "月曜日",
           "2",
           "500-600円"
          ],
          [
           "浅間町8-5",
           "日曜日",
           "5",
           "450-700円大盛り+100円ﾄｯﾋﾟﾝｸﾞ+50円"
          ],
          [
           "上井出261-1",
           "不定",
           "6",
           "630円"
          ],
          [
           "東町11-5",
           "不定",
           "20",
           "380-600円"
          ],
          [
           "安居山832-5",
           "月曜日",
           "5",
           "500円～"
          ],
          [
           "粟倉56-1",
           "第１･３月火",
           "8",
           "350～800円"
          ],
          [
           "粟倉南町94-3",
           "日曜日",
           "10",
           "350～500円"
          ],
          [
           "内野馬飼野牧場内",
           "なし",
           "500",
           "500円"
          ],
          [
           "大岩388-3",
           "木曜日",
           "8",
           "400～650円"
          ],
          [
           "大岩1565-1",
           "火曜日",
           "3",
           "400～700円"
          ],
          [
           "大中里1444-18",
           "月・火曜日",
           "10",
           "400～500円"
          ],
          [
           "大中里1733-2",
           "日曜日",
           "5～6",
           "350～500円"
          ],
          [
           "上井出773-3",
           "水曜、",
           "有",
           "450円～"
          ],
          [
           "上井出825-6",
           "月曜日",
           "20",
           "400～600円"
          ],
          [
           "上井出854-50",
           "祝日以外の火曜日",
           "50",
           "350～1500円"
          ],
          [
           "上井出2253-3",
           "月曜日",
           "30",
           "400～600円"
          ],
          [
           "上井出3776-7",
           "月曜日",
           "10",
           "450～550円"
          ],
          [
           "上条438-1",
           "水・木・金",
           "有",
           "400円～"
          ],
          [
           "上条1687-9",
           "月曜、",
           "6",
           "400～800円"
          ],
          [
           "北山503",
           "月曜日",
           "20",
           "600円"
          ],
          [
           "北山1046-1",
           "月曜日",
           "3",
           "400～450円"
          ],
          [
           "北山1539-1",
           "日祭・火曜",
           "無",
           "350～550円"
          ],
          [
           "北山5214-7",
           "火曜日",
           "20",
           "400～500円"
          ],
          [
           "小泉237-7",
           "日・祝日",
           "4～5",
           "350～550円"
          ],
          [
           "小泉720-7",
           "水曜日",
           "10",
           "500円～"
          ],
          [
           "小泉1172-8",
           "水曜日",
           "10",
           "300～400円"
          ],
          [
           "小泉1801-7",
           "日・祭日",
           "大駐車場有",
           "500円～"
          ],
          [
           "小泉1930",
           "月曜日",
           "20",
           "500円～"
          ],
          [
           "小泉2061-15",
           "木曜日",
           "3",
           "350円～"
          ],
          [
           "小泉2862",
           "月曜日",
           "5",
           "400円～"
          ],
          [
           "下条485-1",
           "月･金曜日",
           "8",
           "300～600円"
          ],
          [
           "下条624",
           "木曜日",
           "4",
           "500～700円"
          ],
          [
           "杉田200-7",
           "第４日曜日",
           "7～8",
           "300～500円"
          ],
          [
           "杉田300-10",
           "月・火・水",
           "20",
           "400～800円"
          ],
          [
           "外神1273-5",
           "火曜日",
           "10",
           "350～750円"
          ],
          [
           "外神東町241-8",
           "月曜日",
           "30",
           "400円～"
          ],
          [
           "中原町6",
           "不定休",
           "20",
           "570円～"
          ],
          [
           "西小泉34-19",
           "木曜日",
           "5",
           "300～650円"
          ],
          [
           "沼久保82-1",
           "月曜日",
           "有",
           "350～500円"
          ],
          [
           "東阿幸地698",
           "無休",
           "40",
           "600円～"
          ],
          [
           "舟久保町16-14",
           "木曜日",
           "10",
           "350～750円"
          ],
          [
           "星山984-2",
           "火曜日",
           "8",
           "350～400円"
          ],
          [
           "舞々木町260",
           "月曜日",
           "7",
           "500円～"
          ],
          [
           "前田町134",
           "日曜日",
           "10～13",
           "500円～"
          ],
          [
           "万野原新田3257-4",
           "日曜日",
           "8",
           "350～500円"
          ],
          [
           "万野原新田3262-8",
           "水曜日",
           "有",
           "350～400円"
          ],
          [
           "万野原新田3281-17",
           "火曜日",
           "2～3",
           "350～700円"
          ],
          [
           "万野原新田4032-3",
           "月曜、",
           "10",
           "400～850円"
          ],
          [
           "三園平587",
           "木曜日",
           "9",
           "300円～"
          ],
          [
           "宮原99-2",
           "月曜日",
           "10",
           "400～650円"
          ],
          [
           "宮原378-1",
           "無休",
           "6",
           "350～450円"
          ],
          [
           "宮原383-9",
           "火曜日",
           "5",
           "350～700円"
          ],
          [
           "宮原707-6",
           "火曜日",
           "30",
           "350～600円"
          ],
          [
           "村山1322-4",
           "木曜日",
           "10",
           "350円～"
          ],
          [
           "矢立町1000",
           "無休",
           "4",
           "300円～"
          ],
          [
           "山宮31-8",
           "木曜日",
           "10",
           "650～900円"
          ],
          [
           "淀師1159-41",
           "月曜日",
           "15",
           "350～700円"
          ],
          [
           "淀師1659-4",
           "日曜日",
           "3",
           "350～700円"
          ],
          [
           "阿幸地町408",
           "月曜日",
           "4",
           "350～600円"
          ],
          [
           "阿幸地町187",
           "不定休",
           "有",
           "200～581円"
          ],
          [
           "朝日町19-1",
           "月・火曜日",
           "5",
           "380円～"
          ],
          [
           "朝日町22-27",
           "不定休",
           "1",
           "300～450円"
          ],
          [
           "浅間町1-8",
           "無休",
           "1900",
           "450円～"
          ],
          [
           "浅間町1-8",
           "無休",
           "1900",
           "350円"
          ],
          [
           "泉町624",
           "月曜日",
           "4",
           "400～600円"
          ],
          [
           "大中里1186-1",
           "木曜日",
           "10",
           "600～700円"
          ],
          [
           "大宮町2-5",
           "水曜日",
           "無",
           "550円～"
          ],
          [
           "大宮町7-16",
           "火曜日",
           "10",
           "400円～"
          ],
          [
           "大宮町12-14",
           "無休",
           "3",
           "600～700円"
          ],
          [
           "大宮町13-17",
           "なし",
           "無",
           "700円～"
          ],
          [
           "大宮町21-1",
           "水曜日",
           "7",
           "450～700円"
          ],
          [
           "大宮町25-8",
           "不定期",
           "無",
           "380円～"
          ],
          [
           "大宮町30-7",
           "水曜日",
           "2",
           "400～600円"
          ],
          [
           "北町9-14",
           "なし",
           "2",
           "350～500円"
          ],
          [
           "貴船町2-9",
           "水曜日",
           "3",
           "400円～"
          ],
          [
           "貴船町9-8",
           "水曜日",
           "6",
           "400円～"
          ],
          [
           "貴船町11-14",
           "月曜日",
           "5",
           "350～600円"
          ],
          [
           "貴船町12-1",
           "特になし",
           "10",
           "500円～"
          ],
          [
           "城北町531-5",
           "木曜日",
           "10",
           "300円～"
          ],
          [
           "宝町1-2",
           "月曜日",
           "3",
           "並550円～"
          ],
          [
           "宝町1-5",
           "木曜日",
           "3",
           "380～630円"
          ],
          [
           "宝町11-24",
           "水曜日",
           "3",
           "450円～"
          ],
          [
           "宝町12-12",
           "火曜日",
           "5",
           "350円～"
          ],
          [
           "中央町3-9",
           "月曜日",
           "中央Ｐ",
           "400～800円"
          ],
          [
           "中央町4-11",
           "第２・３水",
           "無",
           "500円～"
          ],
          [
           "中央町7-18",
           "第３日曜日",
           "2",
           "500円～"
          ],
          [
           "中央町9-3",
           "水曜日",
           "8",
           "580円～"
          ],
          [
           "錦町6-14",
           "木曜日",
           "8",
           "450～500円"
          ],
          [
           "西町4-12",
           "水曜、",
           "5",
           "400～600円"
          ],
          [
           "西町16-3",
           "火曜日",
           "10",
           "350円～"
          ],
          [
           "西町21-7",
           "水曜日",
           "4",
           "400円～"
          ],
          [
           "西町25-2",
           "日曜日",
           "1～2",
           "500～750円"
          ],
          [
           "野中572-2",
           "月曜日",
           "3～4",
           "400～550円"
          ],
          [
           "野中東町34",
           "火曜日",
           "10",
           "350～1030円"
          ],
          [
           "野中東町112-1",
           "火曜日",
           "4",
           "350～600円"
          ],
          [
           "野中東町119-2",
           "月曜日",
           "7",
           "300～600円"
          ],
          [
           "野中東町178",
           "無し",
           "有",
           "330円～"
          ],
          [
           "東阿幸地116",
           "火曜日",
           "5",
           "350～550円"
          ],
          [
           "東阿幸地595",
           "火曜日",
           "13",
           "350円～"
          ],
          [
           "東町23-1",
           "月曜日",
           "3(外)",
           "400～500円"
          ],
          [
           "光町8-8",
           "水曜日",
           "6",
           "450～1000円"
          ],
          [
           "光町13-10",
           "第２・４日",
           "兼2～30",
           "500円～"
          ],
          [
           "光町13-14",
           "金曜日",
           "4",
           "350～700円"
          ],
          [
           "光町14-9",
           "無休",
           "2",
           "250～500円"
          ],
          [
           "ひばりヶ丘287",
           "月曜日",
           "25",
           "550～1100円"
          ],
          [
           "富士見ヶ丘121",
           "月曜日",
           "3",
           "400円～"
          ],
          [
           "富士見ヶ丘1052",
           "日曜日",
           "20",
           "1000円"
          ],
          [
           "富士見ヶ丘1241",
           "正月と盆",
           "30",
           "330円～"
          ],
          [
           "穂波町11-6",
           "日曜日",
           "6",
           "350～400円"
          ],
          [
           "舞々木町153",
           "月曜日",
           "10",
           "400～500円"
          ],
          [
           "三園平233",
           "日曜日",
           "8",
           "550～900円"
          ],
          [
           "三園平1644",
           "火曜日",
           "80",
           "500～1000円"
          ],
          [
           "三園平1679",
           "水曜日",
           "30",
           "500円～"
          ],
          [
           "宮町1-1",
           "なし",
           "4",
           "450円～"
          ],
          [
           "宮町1-3",
           "月・第３日",
           "有",
           "450円～"
          ],
          [
           "宮町4-23",
           "無休",
           "無",
           "450円～"
          ],
          [
           "宮町4-23",
           "火曜日",
           "無",
           "400円～"
          ],
          [
           "宮町4-23",
           "月曜日",
           "無",
           "380円～"
          ],
          [
           "宮町6-1",
           "なし",
           "8",
           "500円～"
          ],
          [
           "宮町6-5",
           "月曜日",
           "10",
           "500円～"
          ],
          [
           "元城町9-19",
           "水曜日",
           "2",
           "370～530円"
          ],
          [
           "元城町10-15",
           "日曜日",
           "10",
           "500～600円"
          ],
          [
           "元城町12-10",
           "月曜日",
           "2",
           "400～550円"
          ],
          [
           "元城町13-20",
           "火曜日",
           "4",
           "400円～"
          ],
          [
           "矢立町195",
           "なし",
           "3",
           "350～700円"
          ],
          [
           "矢立町658",
           "日曜日",
           "7",
           "400円～"
          ],
          [
           "豊町9-4",
           "日曜日",
           "4",
           "350～650円"
          ],
          [
           "淀川町22-18",
           "特になし",
           "5",
           "350円～"
          ],
          [
           "淀川町32-6",
           "木曜、",
           "6",
           "300円～"
          ],
          [
           "淀川町36-15",
           "無し",
           "有",
           "330円～"
          ],
          [
           "淀師136-8",
           "月曜日",
           "7",
           "450～700円"
          ],
          [
           "淀師415-2",
           "月曜日",
           "15",
           "350～800円"
          ],
          [
           "淀師468-2",
           "月曜、",
           "20",
           "350～600円"
          ],
          [
           "淀師583-20",
           "日曜日",
           "8",
           "350～550円"
          ],
          [
           "若の宮町32",
           "火曜日",
           "3",
           "400～650円"
          ]
         ],
         "hovertemplate": "<b>%{hovertext}</b><br><br>lat=%{lat}<br>lon=%{lon}<br>住所=%{customdata[0]}<br>休日=%{customdata[1]}<br>駐車場=%{customdata[2]}<br>料金=%{customdata[3]}<extra></extra>",
         "hovertext": [
          "すぎ本（お宮横丁）",
          "お食事処岩市",
          "ままん",
          "みっちゃん家",
          "わびすけ",
          "ろばた焼一心",
          "おざわ酒店",
          "安曇野",
          "むすび屋",
          "つかさ",
          "かいじ",
          "豊延",
          "とおり道",
          "あおい",
          "ペイジ",
          "ふじの食堂",
          "富士山にこにこ長屋",
          "ふくじん",
          "ふくいや",
          "平石屋",
          "夢千代",
          "あご山",
          "ふくろう",
          "丸太",
          "まかいの牧場内 ぼんぼり",
          "おのちゃん",
          "泉花",
          "祭りや",
          "お好み焼 いち川",
          "パピ",
          "天神橋",
          "むめさん",
          "お食事処 とし",
          "五平茶屋",
          "白扇",
          "お好焼 まんぷく",
          "あっぷる",
          "清ふじ",
          "ふじた食堂",
          "お好み焼 京",
          "いじわるまま",
          "居酒屋 きっこ",
          "いつものところ",
          "小料理屋 あい",
          "金太郎",
          "長谷川商店",
          "なごみや",
          "よない",
          "なみ",
          "お好み焼きハウス 名月",
          "千貫くいどころ",
          "焼そば・お好み うめづ",
          "鉄板焼 さいごう",
          "鉄板焼 ちゃん バイパス店",
          "テン＆テン",
          "浦田商店",
          "ぼて福",
          "おたふく",
          "ますみ",
          "焼そば はうすぴ－す",
          "喫茶 暫",
          "お好み焼 内藤",
          "ぱな（コヌマフード）",
          "すずきお好み",
          "ゆぐち",
          "めぐみ",
          "ふくや",
          "ＶＩＶＡ せいけふーど",
          "よしの",
          "ラーメン朝日",
          "おこのみハウス 平ゆう",
          "渡辺商店",
          "チャンティック",
          "ばんばん",
          "なかど",
          "こんどう",
          "たぬき",
          "ひこの",
          "稲葉商店",
          "たこ膳",
          "パン工場富士宮店",
          "一休",
          "アンデス",
          "瓔珞(ようらく)",
          "ハーベスト",
          "つぼ半",
          "ゴールド",
          "さの食堂",
          "かわにし",
          "ぴいぷる水上",
          "姫たこ",
          "ふみ",
          "マルコウ",
          "おじまや",
          "きぶね亭",
          "遊味亭",
          "やまだ食堂",
          "味菜",
          "こもれび",
          "お好み焼　夢",
          "虹屋ミミ",
          "炎や",
          "キッチントトロ",
          "鉄板焼 ちゃん 駅前店",
          "ぐるっぺ",
          "じねん坊",
          "鉄板焼 すぎ本",
          "うたちゃん",
          "いろは亭",
          "杉山",
          "味わい処　小粋",
          "お好焼 あき",
          "虹屋",
          "ホロタチェーンポテト野中店",
          "野武士",
          "わたなべ お好焼",
          "鉄板お好焼 すぎやま",
          "さくらんぼ",
          "プリンス",
          "お好み焼 金森",
          "お好み焼き ひかり",
          "喫茶ヴィーナス",
          "お好み焼 ふじ",
          "こまつや",
          "ホロタチェーンベスト電器富士宮店",
          "穂波屋",
          "やまちゃん",
          "オレンジペコ",
          "喫茶軽食 ミミ",
          "みます家",
          "ここずらよ",
          "シーズ あるばとろす",
          "富士宮やきそば学会アンテナショップ",
          "すぎ本（お宮横丁内）",
          "むすび屋（お宮横丁内）",
          "宮膳つたや",
          "富士巻食堂",
          "ソバージュ",
          "ミマスヤ２",
          "大阪屋",
          "あさ家",
          "前島",
          "お好み焼 くぼた",
          "みち草",
          "若林たばこ店",
          "焼そばハウス",
          "ホロタチェーンポテト淀川店",
          "大勝",
          "うるおいてい",
          "お好み食堂 伊東",
          "しまい",
          "ひまわり"
         ],
         "lat": [
          35.224991,
          35.224586,
          35.22504,
          35.229198,
          35.216354,
          35.231007,
          35.236752,
          35.235474,
          35.224991,
          35.325951,
          35.306538,
          35.262058,
          35.215176,
          35.243034,
          35.219212,
          35.251904,
          35.267826,
          35.223274,
          35.218826,
          35.310333,
          35.223877,
          35.215862,
          35.249496,
          35.25161,
          35.335857,
          35.243511,
          35.230549,
          35.216782,
          35.22998,
          35.325951,
          35.315372,
          35.315163,
          35.310932,
          35.339848,
          35.276947,
          35.28524,
          35.275265,
          35.315876,
          35.284824,
          35.267948,
          35.210094,
          35.217445,
          35.226002,
          35.222393,
          35.221657,
          35.22324,
          35.215927,
          35.274578,
          35.271427,
          35.212364,
          35.216896,
          35.247807,
          35.258442,
          35.244896,
          35.218765,
          35.194756,
          35.227699,
          35.249924,
          35.208862,
          35.24213,
          35.213394,
          35.248116,
          35.251904,
          35.250072,
          35.257111,
          35.244041,
          35.247795,
          35.247578,
          35.247578,
          35.252129,
          35.26746,
          35.22377,
          35.257812,
          35.242939,
          35.242371,
          35.226719,
          35.229164,
          35.231812,
          35.23444,
          35.220619,
          35.220619,
          35.222866,
          35.218872,
          35.224491,
          35.224838,
          35.224281,
          35.223713,
          35.223408,
          35.2229,
          35.222416,
          35.236629,
          35.226276,
          35.227398,
          35.22897,
          35.228996,
          35.232708,
          35.228241,
          35.228252,
          35.229198,
          35.229645,
          35.223236,
          35.222477,
          35.223,
          35.224365,
          35.219872,
          35.225384,
          35.225132,
          35.227596,
          35.225616,
          35.212021,
          35.216881,
          35.216171,
          35.215603,
          35.21664,
          35.231087,
          35.229614,
          35.222298,
          35.231796,
          35.233765,
          35.233551,
          35.232937,
          35.237492,
          35.235241,
          35.23225,
          35.232735,
          35.234489,
          35.240936,
          35.238873,
          35.238983,
          35.238983,
          35.225037,
          35.225143,
          35.224991,
          35.224991,
          35.224991,
          35.223232,
          35.223408,
          35.225716,
          35.227436,
          35.227276,
          35.226536,
          35.225243,
          35.227486,
          35.229958,
          35.231846,
          35.231209,
          35.233841,
          35.236637,
          35.236973,
          35.240753,
          35.238823,
          35.231644
         ],
         "legendgroup": "",
         "lon": [
          138.610199,
          138.611572,
          138.611862,
          138.604813,
          138.606567,
          138.624725,
          138.616074,
          138.623306,
          138.610199,
          138.605484,
          138.595825,
          138.577682,
          138.626831,
          138.609512,
          138.615936,
          138.624863,
          138.634811,
          138.616745,
          138.611862,
          138.590286,
          138.618988,
          138.586578,
          138.646347,
          138.637741,
          138.57785,
          138.629059,
          138.640533,
          138.592056,
          138.591766,
          138.605484,
          138.594162,
          138.591568,
          138.600143,
          138.59816,
          138.584229,
          138.584625,
          138.602325,
          138.641251,
          138.604279,
          138.608231,
          138.635956,
          138.631332,
          138.629715,
          138.630646,
          138.636673,
          138.64241,
          138.630173,
          138.576508,
          138.577057,
          138.658737,
          138.664032,
          138.595627,
          138.614319,
          138.618622,
          138.629379,
          138.591995,
          138.625565,
          138.637909,
          138.616898,
          138.621597,
          138.62999,
          138.62085,
          138.624863,
          138.622498,
          138.622131,
          138.611069,
          138.609802,
          138.611008,
          138.611008,
          138.607574,
          138.661728,
          138.625809,
          138.63179,
          138.607727,
          138.600418,
          138.619888,
          138.621933,
          138.604401,
          138.604416,
          138.61351,
          138.61351,
          138.601242,
          138.596481,
          138.611481,
          138.612442,
          138.613388,
          138.61264,
          138.610474,
          138.612564,
          138.613373,
          138.613358,
          138.6026,
          138.601089,
          138.600266,
          138.60054,
          138.618484,
          138.608841,
          138.608322,
          138.604813,
          138.603668,
          138.614731,
          138.614609,
          138.614822,
          138.615387,
          138.617416,
          138.606461,
          138.605453,
          138.603821,
          138.603775,
          138.605728,
          138.610397,
          138.609177,
          138.610641,
          138.608459,
          138.62326,
          138.623596,
          138.616241,
          138.607864,
          138.611404,
          138.612015,
          138.609497,
          138.617569,
          138.623505,
          138.62468,
          138.622314,
          138.598312,
          138.622894,
          138.613663,
          138.616913,
          138.616913,
          138.610535,
          138.610214,
          138.610199,
          138.610199,
          138.610199,
          138.609253,
          138.608627,
          138.616821,
          138.616638,
          138.615356,
          138.615402,
          138.619568,
          138.623932,
          138.613129,
          138.601364,
          138.599533,
          138.599899,
          138.600082,
          138.596466,
          138.596283,
          138.599899,
          138.615768
         ],
         "marker": {
          "color": "#636efa"
         },
         "mode": "markers",
         "name": "",
         "showlegend": false,
         "subplot": "mapbox",
         "type": "scattermapbox"
        }
       ],
       "layout": {
        "legend": {
         "tracegroupgap": 0
        },
        "mapbox": {
         "accesstoken": "pk.eyJ1IjoiaHJzYW5vNjQ1IiwiYSI6ImNrcnJxMjV3cDBtcXkyb285aDFxOTloN2oifQ.Y3Nedqa_T6K6Exk47VRTHQ",
         "center": {
          "lat": 35.23850298684211,
          "lon": 138.61284573026316
         },
         "domain": {
          "x": [
           0,
           1
          ],
          "y": [
           0,
           1
          ]
         },
         "zoom": 9
        },
        "template": {
         "data": {
          "bar": [
           {
            "error_x": {
             "color": "#2a3f5f"
            },
            "error_y": {
             "color": "#2a3f5f"
            },
            "marker": {
             "line": {
              "color": "#E5ECF6",
              "width": 0.5
             },
             "pattern": {
              "fillmode": "overlay",
              "size": 10,
              "solidity": 0.2
             }
            },
            "type": "bar"
           }
          ],
          "barpolar": [
           {
            "marker": {
             "line": {
              "color": "#E5ECF6",
              "width": 0.5
             },
             "pattern": {
              "fillmode": "overlay",
              "size": 10,
              "solidity": 0.2
             }
            },
            "type": "barpolar"
           }
          ],
          "carpet": [
           {
            "aaxis": {
             "endlinecolor": "#2a3f5f",
             "gridcolor": "white",
             "linecolor": "white",
             "minorgridcolor": "white",
             "startlinecolor": "#2a3f5f"
            },
            "baxis": {
             "endlinecolor": "#2a3f5f",
             "gridcolor": "white",
             "linecolor": "white",
             "minorgridcolor": "white",
             "startlinecolor": "#2a3f5f"
            },
            "type": "carpet"
           }
          ],
          "choropleth": [
           {
            "colorbar": {
             "outlinewidth": 0,
             "ticks": ""
            },
            "type": "choropleth"
           }
          ],
          "contour": [
           {
            "colorbar": {
             "outlinewidth": 0,
             "ticks": ""
            },
            "colorscale": [
             [
              0,
              "#0d0887"
             ],
             [
              0.1111111111111111,
              "#46039f"
             ],
             [
              0.2222222222222222,
              "#7201a8"
             ],
             [
              0.3333333333333333,
              "#9c179e"
             ],
             [
              0.4444444444444444,
              "#bd3786"
             ],
             [
              0.5555555555555556,
              "#d8576b"
             ],
             [
              0.6666666666666666,
              "#ed7953"
             ],
             [
              0.7777777777777778,
              "#fb9f3a"
             ],
             [
              0.8888888888888888,
              "#fdca26"
             ],
             [
              1,
              "#f0f921"
             ]
            ],
            "type": "contour"
           }
          ],
          "contourcarpet": [
           {
            "colorbar": {
             "outlinewidth": 0,
             "ticks": ""
            },
            "type": "contourcarpet"
           }
          ],
          "heatmap": [
           {
            "colorbar": {
             "outlinewidth": 0,
             "ticks": ""
            },
            "colorscale": [
             [
              0,
              "#0d0887"
             ],
             [
              0.1111111111111111,
              "#46039f"
             ],
             [
              0.2222222222222222,
              "#7201a8"
             ],
             [
              0.3333333333333333,
              "#9c179e"
             ],
             [
              0.4444444444444444,
              "#bd3786"
             ],
             [
              0.5555555555555556,
              "#d8576b"
             ],
             [
              0.6666666666666666,
              "#ed7953"
             ],
             [
              0.7777777777777778,
              "#fb9f3a"
             ],
             [
              0.8888888888888888,
              "#fdca26"
             ],
             [
              1,
              "#f0f921"
             ]
            ],
            "type": "heatmap"
           }
          ],
          "heatmapgl": [
           {
            "colorbar": {
             "outlinewidth": 0,
             "ticks": ""
            },
            "colorscale": [
             [
              0,
              "#0d0887"
             ],
             [
              0.1111111111111111,
              "#46039f"
             ],
             [
              0.2222222222222222,
              "#7201a8"
             ],
             [
              0.3333333333333333,
              "#9c179e"
             ],
             [
              0.4444444444444444,
              "#bd3786"
             ],
             [
              0.5555555555555556,
              "#d8576b"
             ],
             [
              0.6666666666666666,
              "#ed7953"
             ],
             [
              0.7777777777777778,
              "#fb9f3a"
             ],
             [
              0.8888888888888888,
              "#fdca26"
             ],
             [
              1,
              "#f0f921"
             ]
            ],
            "type": "heatmapgl"
           }
          ],
          "histogram": [
           {
            "marker": {
             "pattern": {
              "fillmode": "overlay",
              "size": 10,
              "solidity": 0.2
             }
            },
            "type": "histogram"
           }
          ],
          "histogram2d": [
           {
            "colorbar": {
             "outlinewidth": 0,
             "ticks": ""
            },
            "colorscale": [
             [
              0,
              "#0d0887"
             ],
             [
              0.1111111111111111,
              "#46039f"
             ],
             [
              0.2222222222222222,
              "#7201a8"
             ],
             [
              0.3333333333333333,
              "#9c179e"
             ],
             [
              0.4444444444444444,
              "#bd3786"
             ],
             [
              0.5555555555555556,
              "#d8576b"
             ],
             [
              0.6666666666666666,
              "#ed7953"
             ],
             [
              0.7777777777777778,
              "#fb9f3a"
             ],
             [
              0.8888888888888888,
              "#fdca26"
             ],
             [
              1,
              "#f0f921"
             ]
            ],
            "type": "histogram2d"
           }
          ],
          "histogram2dcontour": [
           {
            "colorbar": {
             "outlinewidth": 0,
             "ticks": ""
            },
            "colorscale": [
             [
              0,
              "#0d0887"
             ],
             [
              0.1111111111111111,
              "#46039f"
             ],
             [
              0.2222222222222222,
              "#7201a8"
             ],
             [
              0.3333333333333333,
              "#9c179e"
             ],
             [
              0.4444444444444444,
              "#bd3786"
             ],
             [
              0.5555555555555556,
              "#d8576b"
             ],
             [
              0.6666666666666666,
              "#ed7953"
             ],
             [
              0.7777777777777778,
              "#fb9f3a"
             ],
             [
              0.8888888888888888,
              "#fdca26"
             ],
             [
              1,
              "#f0f921"
             ]
            ],
            "type": "histogram2dcontour"
           }
          ],
          "mesh3d": [
           {
            "colorbar": {
             "outlinewidth": 0,
             "ticks": ""
            },
            "type": "mesh3d"
           }
          ],
          "parcoords": [
           {
            "line": {
             "colorbar": {
              "outlinewidth": 0,
              "ticks": ""
             }
            },
            "type": "parcoords"
           }
          ],
          "pie": [
           {
            "automargin": true,
            "type": "pie"
           }
          ],
          "scatter": [
           {
            "marker": {
             "colorbar": {
              "outlinewidth": 0,
              "ticks": ""
             }
            },
            "type": "scatter"
           }
          ],
          "scatter3d": [
           {
            "line": {
             "colorbar": {
              "outlinewidth": 0,
              "ticks": ""
             }
            },
            "marker": {
             "colorbar": {
              "outlinewidth": 0,
              "ticks": ""
             }
            },
            "type": "scatter3d"
           }
          ],
          "scattercarpet": [
           {
            "marker": {
             "colorbar": {
              "outlinewidth": 0,
              "ticks": ""
             }
            },
            "type": "scattercarpet"
           }
          ],
          "scattergeo": [
           {
            "marker": {
             "colorbar": {
              "outlinewidth": 0,
              "ticks": ""
             }
            },
            "type": "scattergeo"
           }
          ],
          "scattergl": [
           {
            "marker": {
             "colorbar": {
              "outlinewidth": 0,
              "ticks": ""
             }
            },
            "type": "scattergl"
           }
          ],
          "scattermapbox": [
           {
            "marker": {
             "colorbar": {
              "outlinewidth": 0,
              "ticks": ""
             }
            },
            "type": "scattermapbox"
           }
          ],
          "scatterpolar": [
           {
            "marker": {
             "colorbar": {
              "outlinewidth": 0,
              "ticks": ""
             }
            },
            "type": "scatterpolar"
           }
          ],
          "scatterpolargl": [
           {
            "marker": {
             "colorbar": {
              "outlinewidth": 0,
              "ticks": ""
             }
            },
            "type": "scatterpolargl"
           }
          ],
          "scatterternary": [
           {
            "marker": {
             "colorbar": {
              "outlinewidth": 0,
              "ticks": ""
             }
            },
            "type": "scatterternary"
           }
          ],
          "surface": [
           {
            "colorbar": {
             "outlinewidth": 0,
             "ticks": ""
            },
            "colorscale": [
             [
              0,
              "#0d0887"
             ],
             [
              0.1111111111111111,
              "#46039f"
             ],
             [
              0.2222222222222222,
              "#7201a8"
             ],
             [
              0.3333333333333333,
              "#9c179e"
             ],
             [
              0.4444444444444444,
              "#bd3786"
             ],
             [
              0.5555555555555556,
              "#d8576b"
             ],
             [
              0.6666666666666666,
              "#ed7953"
             ],
             [
              0.7777777777777778,
              "#fb9f3a"
             ],
             [
              0.8888888888888888,
              "#fdca26"
             ],
             [
              1,
              "#f0f921"
             ]
            ],
            "type": "surface"
           }
          ],
          "table": [
           {
            "cells": {
             "fill": {
              "color": "#EBF0F8"
             },
             "line": {
              "color": "white"
             }
            },
            "header": {
             "fill": {
              "color": "#C8D4E3"
             },
             "line": {
              "color": "white"
             }
            },
            "type": "table"
           }
          ]
         },
         "layout": {
          "annotationdefaults": {
           "arrowcolor": "#2a3f5f",
           "arrowhead": 0,
           "arrowwidth": 1
          },
          "autotypenumbers": "strict",
          "coloraxis": {
           "colorbar": {
            "outlinewidth": 0,
            "ticks": ""
           }
          },
          "colorscale": {
           "diverging": [
            [
             0,
             "#8e0152"
            ],
            [
             0.1,
             "#c51b7d"
            ],
            [
             0.2,
             "#de77ae"
            ],
            [
             0.3,
             "#f1b6da"
            ],
            [
             0.4,
             "#fde0ef"
            ],
            [
             0.5,
             "#f7f7f7"
            ],
            [
             0.6,
             "#e6f5d0"
            ],
            [
             0.7,
             "#b8e186"
            ],
            [
             0.8,
             "#7fbc41"
            ],
            [
             0.9,
             "#4d9221"
            ],
            [
             1,
             "#276419"
            ]
           ],
           "sequential": [
            [
             0,
             "#0d0887"
            ],
            [
             0.1111111111111111,
             "#46039f"
            ],
            [
             0.2222222222222222,
             "#7201a8"
            ],
            [
             0.3333333333333333,
             "#9c179e"
            ],
            [
             0.4444444444444444,
             "#bd3786"
            ],
            [
             0.5555555555555556,
             "#d8576b"
            ],
            [
             0.6666666666666666,
             "#ed7953"
            ],
            [
             0.7777777777777778,
             "#fb9f3a"
            ],
            [
             0.8888888888888888,
             "#fdca26"
            ],
            [
             1,
             "#f0f921"
            ]
           ],
           "sequentialminus": [
            [
             0,
             "#0d0887"
            ],
            [
             0.1111111111111111,
             "#46039f"
            ],
            [
             0.2222222222222222,
             "#7201a8"
            ],
            [
             0.3333333333333333,
             "#9c179e"
            ],
            [
             0.4444444444444444,
             "#bd3786"
            ],
            [
             0.5555555555555556,
             "#d8576b"
            ],
            [
             0.6666666666666666,
             "#ed7953"
            ],
            [
             0.7777777777777778,
             "#fb9f3a"
            ],
            [
             0.8888888888888888,
             "#fdca26"
            ],
            [
             1,
             "#f0f921"
            ]
           ]
          },
          "colorway": [
           "#636efa",
           "#EF553B",
           "#00cc96",
           "#ab63fa",
           "#FFA15A",
           "#19d3f3",
           "#FF6692",
           "#B6E880",
           "#FF97FF",
           "#FECB52"
          ],
          "font": {
           "color": "#2a3f5f"
          },
          "geo": {
           "bgcolor": "white",
           "lakecolor": "white",
           "landcolor": "#E5ECF6",
           "showlakes": true,
           "showland": true,
           "subunitcolor": "white"
          },
          "hoverlabel": {
           "align": "left"
          },
          "hovermode": "closest",
          "mapbox": {
           "style": "light"
          },
          "paper_bgcolor": "white",
          "plot_bgcolor": "#E5ECF6",
          "polar": {
           "angularaxis": {
            "gridcolor": "white",
            "linecolor": "white",
            "ticks": ""
           },
           "bgcolor": "#E5ECF6",
           "radialaxis": {
            "gridcolor": "white",
            "linecolor": "white",
            "ticks": ""
           }
          },
          "scene": {
           "xaxis": {
            "backgroundcolor": "#E5ECF6",
            "gridcolor": "white",
            "gridwidth": 2,
            "linecolor": "white",
            "showbackground": true,
            "ticks": "",
            "zerolinecolor": "white"
           },
           "yaxis": {
            "backgroundcolor": "#E5ECF6",
            "gridcolor": "white",
            "gridwidth": 2,
            "linecolor": "white",
            "showbackground": true,
            "ticks": "",
            "zerolinecolor": "white"
           },
           "zaxis": {
            "backgroundcolor": "#E5ECF6",
            "gridcolor": "white",
            "gridwidth": 2,
            "linecolor": "white",
            "showbackground": true,
            "ticks": "",
            "zerolinecolor": "white"
           }
          },
          "shapedefaults": {
           "line": {
            "color": "#2a3f5f"
           }
          },
          "ternary": {
           "aaxis": {
            "gridcolor": "white",
            "linecolor": "white",
            "ticks": ""
           },
           "baxis": {
            "gridcolor": "white",
            "linecolor": "white",
            "ticks": ""
           },
           "bgcolor": "#E5ECF6",
           "caxis": {
            "gridcolor": "white",
            "linecolor": "white",
            "ticks": ""
           }
          },
          "title": {
           "x": 0.05
          },
          "xaxis": {
           "automargin": true,
           "gridcolor": "white",
           "linecolor": "white",
           "ticks": "",
           "title": {
            "standoff": 15
           },
           "zerolinecolor": "white",
           "zerolinewidth": 2
          },
          "yaxis": {
           "automargin": true,
           "gridcolor": "white",
           "linecolor": "white",
           "ticks": "",
           "title": {
            "standoff": 15
           },
           "zerolinecolor": "white",
           "zerolinewidth": 2
          }
         }
        },
        "title": {
         "text": "富士宮焼きそばマップ"
        }
       }
      }
     },
     "metadata": {}
    }
   ],
   "metadata": {}
  },
  {
   "cell_type": "markdown",
   "source": [
    "ここまでのまとめ\n",
    "\n",
    "- pandas.read_table便利\n",
    "- 富士宮焼きそばが食べられるお店は中心外以外でもあるが、車がないと行くのが難しい\n",
    "- mapboxでプロットしたはいいものの、どうやってスマホとかで見ようか悩む"
   ],
   "metadata": {
    "slideshow": {
     "slide_type": "slide"
    }
   }
  },
  {
   "cell_type": "markdown",
   "source": [
    "どうやってスマホで見るか🤔\r\n",
    "\r\n",
    "↓\r\n",
    "\r\n",
    "Googleマップに載せたい"
   ],
   "metadata": {}
  },
  {
   "cell_type": "markdown",
   "source": [
    "Google マイマップでさっきのCSVファイルを取り込む"
   ],
   "metadata": {}
  },
  {
   "cell_type": "markdown",
   "source": [
    "\n",
    "![googlemymap_yakisoba](./slide_asset/img/googlemymap_yakisoba.png)"
   ],
   "metadata": {}
  },
  {
   "cell_type": "markdown",
   "source": [
    "マッピングできた\n",
    "\n",
    "富士宮に行ったらお店をすぐに探せます😋"
   ],
   "metadata": {}
  },
  {
   "cell_type": "markdown",
   "source": [
    "### まとめ"
   ],
   "metadata": {}
  },
  {
   "cell_type": "markdown",
   "source": [
    "富士宮焼きそばはうまいのでぜひ食べよう（県外の人向け）"
   ],
   "metadata": {}
  },
  {
   "cell_type": "markdown",
   "source": [
    "### まとめ\n",
    "\n",
    "- pandasを駆使してデータを作ってオープンデータ化するのは面白い\n",
    "- Plotly強い。便利。\n",
    "- マップ系の連携とかもうちょっと勉強したい"
   ],
   "metadata": {}
  },
  {
   "cell_type": "markdown",
   "source": [
    "### もっとやりたかったこと\n",
    "\n",
    "- 地図のシェープデータで富士宮の地域ごとのお店出現数のコロプレスマップを見たかった\n",
    "  - ?\n",
    "- 食べ歩きの最適なルート算出とかしてみたい\n",
    "  - ?\n"
   ],
   "metadata": {}
  },
  {
   "cell_type": "markdown",
   "source": [
    "### さらにやりたかったこと\n",
    "\n",
    "- 地図のシェープデータで富士宮の地域ごとのお店出現数のコロプレスマップを見たかった\n",
    "  - 細かい地域のシェープデータはなさそうだった（探しきれてないかも）\n",
    "- 食べ歩きの最適なルート算出とかしてみたい\n",
    "  - ネットワーク図というかダイクストラを解けば良さそう\n",
    "  - それするならGoogleマップでやるかな..."
   ],
   "metadata": {}
  }
 ],
 "metadata": {
  "celltoolbar": "スライドショー",
  "kernelspec": {
   "name": "python3",
   "display_name": "Python 3.9.6 64-bit ('.venv': venv)"
  },
  "language_info": {
   "codemirror_mode": {
    "name": "ipython",
    "version": 3
   },
   "file_extension": ".py",
   "mimetype": "text/x-python",
   "name": "python",
   "nbconvert_exporter": "python",
   "pygments_lexer": "ipython3",
   "version": "3.9.6"
  },
  "interpreter": {
   "hash": "ba991c5373711da541662e96243c607f02a3c7f6e45dd64cc8c41b115c8706b2"
  }
 },
 "nbformat": 4,
 "nbformat_minor": 5
}